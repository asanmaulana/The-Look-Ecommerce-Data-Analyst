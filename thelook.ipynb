{
 "cells": [
  {
   "cell_type": "markdown",
   "metadata": {},
   "source": [
    " Buat analisis data dari permasalahan: “Shipping and Stock Performance Review on Q1 - Q2 2023”\n",
    "- Data diperoleh dari database BigQuery database “thelook_ecommerce”\n",
    "- Analisis data mencakup statistik descriptive, inferential, dan visualisasi data untuk menjawab permasalahan di poin pertama\n",
    "- Buat notebook yang mencantumkan penjabaran masalah, query data, pengolahan data, visualisasi data dan analisis data\n",
    "- Buat dashboard dari visualisasi seolah-olah kamu diminta untuk buat dashboard reporting ke Manager Gudang dan Pengiriman (buat yang menarik)\n",
    "- Buat PPT untuk menceritakan analisis dan kesimpulan dari dashboard yang telah dibuat\n"
   ]
  },
  {
   "cell_type": "markdown",
   "metadata": {},
   "source": [
    "# Introduction "
   ]
  },
  {
   "cell_type": "markdown",
   "metadata": {},
   "source": [
    "Sebagai seorang analis data yang berdedikasi dan memiliki passion dalam mengungkap wawasan dari data, saya memulai proyek ini untuk meningkatkan keterampilan analisis saya sekaligus menunjukkan kemampuan saya dalam menghasilkan solusi bisnis yang dapat diimplementasikan. Proyek ini menggunakan dataset yang tersedia secara publik dari Google Cloud Platform, dengan dataset the look ecommerce. Disini saya akan membuat nama sebuah perusahaan fiktif untuk menciptakan narasi menarik tentang operasional mereka dan mengeksplorasi peluang pertumbuhan serta optimalisasi dari perusahaan yang akan saya analisa. \n",
    "\n",
    "Latar Belakang Shopay Ecommerce\n",
    "\n",
    "Shopay Ecommerce, didirikan pada tahun 2015, adalah platform retail online terkemuka yang dikenal karena ragam produknya yang luas, mulai dari elektronik dan pakaian hingga kebutuhan rumah tangga dan aksesori. Berkantor pusat di Jakarta, perusahaan ini tumbuh secara eksponensial dan melayani jutaan pelanggan di seluruh Indonesia. Dengan mengutamakan kepuasan pelanggan, Shopay telah membangun reputasi untuk pengalaman belanja yang lancar, harga yang kompetitif, dan layanan pengiriman yang cepat.Di inti operasional Shopay terletak komitmen terhadap inovasi dan pemanfaatan strategi berbasis data untuk memenuhi kebutuhan pelanggan. Dengan katalog produk yang beragam dan jaringan logistik yang kuat, perusahaan ini bersaing dengan raksasa di sektor e-commerce, menciptakan keunikannya dengan berfokus pada personalisasi dan kampanye pemasaran lokal. \n",
    "\n",
    "Manajer gudang memberikan perintah kepada saya untuk memberikan report mengenai performa dari gudang untuk tahun 2023, report ini dikhususkan untuk quarter 1 dan quarter 2 dari tahun 2023. Pembahasan selanjutnya akan Problem statement dan Problem Breakdown. "
   ]
  },
  {
   "cell_type": "markdown",
   "metadata": {},
   "source": [
    "## Problem Statement \n",
    "\n",
    "Dalam periode Q1 hingga Q2 tahun 2023, perusahaan menghadapi tantangan dalam memastikan efisiensi proses pengiriman dan pengelolaan stok barang. Terdapat beberapa laporan keterlambatan pengiriman serta ketidaksesuaian antara permintaan pasar. Hal ini menyebabkan penurunan tingkat kepuasan pelanggan sebesar 15% dibandingkan dengan semester sebelumnya, sekaligus meningkatkan biaya operasional akibat kelebihan stok pada kategori tertentu dan kekurangan stok pada kategori lainnya. Untuk mengatasi masalah ini, perlu dilakukan analisis mendalam terhadap kinerja pengiriman dan pengelolaan stok guna mengidentifikasi akar permasalahan dan merumuskan strategi peningkatan."
   ]
  },
  {
   "cell_type": "markdown",
   "metadata": {},
   "source": [
    "## Problem Breakdown"
   ]
  },
  {
   "cell_type": "markdown",
   "metadata": {},
   "source": [
    "1. Bagaimana komposisi pelanggan kita berdasarkan gender ? \n",
    "2. Seperti apa komposisi keseluruhan status pesanan kita selama 6 bulan terakhir?\n",
    "3. Adakah indikasi produk tertentu, kategori tertentu yang mendominasi dalam order order yang tercancel ? \n",
    "4. Adakah indikasi produk tertentu, kategori tertentu yang mendominasi dalam order order yang dikembalikan (return) ?\n",
    "5. Kategori mana yang memiliki aktivitas order tertinggi tunjukkan 10 ? \n",
    "6. Kategori mana yang memiliki aktivitas order terendah tunjukkan 10 ? \n",
    "7. Tunjukkan diagram distribusi dari cost dan price retail ? \n",
    "8. Brand mana yang menjadi brand terlaris selama 6 bulan ini? Top 10 \n",
    "9. Tunjukkan data historis total order setiap bulan selama 6 bulan terakhir ? \n",
    "10. Berapa jumlah item per order ? \n",
    "11. Histogram lama pengiriman dalam jam ? \n",
    "12. Apakah terdapat distribution ID yang mayoritas digunakan ? "
   ]
  },
  {
   "cell_type": "markdown",
   "metadata": {},
   "source": [
    "# Importing Libraries "
   ]
  },
  {
   "cell_type": "code",
   "execution_count": 1,
   "metadata": {},
   "outputs": [],
   "source": [
    "# Importing library yang dibutuhkan pada analisis kali ini\n",
    "\n",
    "import pandas as pd\n",
    "import numpy as np \n",
    "import matplotlib.pyplot as plt \n",
    "import seaborn as sns \n",
    "import scipy.stats as stats"
   ]
  },
  {
   "cell_type": "markdown",
   "metadata": {},
   "source": [
    "# Data Loading "
   ]
  },
  {
   "cell_type": "markdown",
   "metadata": {},
   "source": [
    "Data ini diambil dari [source](https://console.cloud.google.com/bigquery?project=rock-wonder-317907&ws=!1m4!1m3!3m2!1sbigquery-public-data!2sthelook_ecommerce), data ini merupakan data free  yang bisa dipakai sebagai bahan latihan dan disediakan oleh google. Data telah saya ambil sendiri menggunakan google cloud platform dengan menggunakan SQL languange. \n",
    "\n",
    "Berikut merupakan data yang telah saya ambil. \n",
    "\n",
    "\n"
   ]
  },
  {
   "cell_type": "code",
   "execution_count": 2,
   "metadata": {},
   "outputs": [
    {
     "data": {
      "text/html": [
       "<div>\n",
       "<style scoped>\n",
       "    .dataframe tbody tr th:only-of-type {\n",
       "        vertical-align: middle;\n",
       "    }\n",
       "\n",
       "    .dataframe tbody tr th {\n",
       "        vertical-align: top;\n",
       "    }\n",
       "\n",
       "    .dataframe thead th {\n",
       "        text-align: right;\n",
       "    }\n",
       "</style>\n",
       "<table border=\"1\" class=\"dataframe\">\n",
       "  <thead>\n",
       "    <tr style=\"text-align: right;\">\n",
       "      <th></th>\n",
       "      <th>order_id</th>\n",
       "      <th>inventory_item_id</th>\n",
       "      <th>gender</th>\n",
       "      <th>status</th>\n",
       "      <th>created_at</th>\n",
       "      <th>shipped_at</th>\n",
       "      <th>delivered_at</th>\n",
       "      <th>returned_at</th>\n",
       "      <th>sale_price</th>\n",
       "      <th>num_of_item</th>\n",
       "      <th>sold_at</th>\n",
       "      <th>cost</th>\n",
       "      <th>product_category</th>\n",
       "      <th>product_name</th>\n",
       "      <th>product_brand</th>\n",
       "      <th>product_retail_price</th>\n",
       "      <th>product_department</th>\n",
       "      <th>product_distribution_center_id</th>\n",
       "    </tr>\n",
       "  </thead>\n",
       "  <tbody>\n",
       "    <tr>\n",
       "      <th>0</th>\n",
       "      <td>124266</td>\n",
       "      <td>487074</td>\n",
       "      <td>F</td>\n",
       "      <td>Shipped</td>\n",
       "      <td>2023-05-15 06:25:24.000000 UTC</td>\n",
       "      <td>2023-05-11 19:08:00.000000 UTC</td>\n",
       "      <td>NaN</td>\n",
       "      <td>NaN</td>\n",
       "      <td>0.02</td>\n",
       "      <td>4</td>\n",
       "      <td>NaN</td>\n",
       "      <td>0.00830</td>\n",
       "      <td>Accessories</td>\n",
       "      <td>Indestructable Aluminum Aluma Wallet - RED</td>\n",
       "      <td>marshal</td>\n",
       "      <td>0.02</td>\n",
       "      <td>Women</td>\n",
       "      <td>1</td>\n",
       "    </tr>\n",
       "    <tr>\n",
       "      <th>1</th>\n",
       "      <td>92782</td>\n",
       "      <td>363599</td>\n",
       "      <td>F</td>\n",
       "      <td>Complete</td>\n",
       "      <td>2023-02-20 15:55:38.000000 UTC</td>\n",
       "      <td>2023-02-21 17:53:00.000000 UTC</td>\n",
       "      <td>2023-02-25 20:43:00.000000 UTC</td>\n",
       "      <td>NaN</td>\n",
       "      <td>0.49</td>\n",
       "      <td>2</td>\n",
       "      <td>NaN</td>\n",
       "      <td>0.17738</td>\n",
       "      <td>Accessories</td>\n",
       "      <td>Set of 2 - Replacement Insert For Checkbook Wa...</td>\n",
       "      <td>Made in USA</td>\n",
       "      <td>0.49</td>\n",
       "      <td>Women</td>\n",
       "      <td>1</td>\n",
       "    </tr>\n",
       "    <tr>\n",
       "      <th>2</th>\n",
       "      <td>29061</td>\n",
       "      <td>113659</td>\n",
       "      <td>M</td>\n",
       "      <td>Processing</td>\n",
       "      <td>2023-01-28 00:48:32.000000 UTC</td>\n",
       "      <td>NaN</td>\n",
       "      <td>NaN</td>\n",
       "      <td>NaN</td>\n",
       "      <td>1.50</td>\n",
       "      <td>2</td>\n",
       "      <td>NaN</td>\n",
       "      <td>0.60600</td>\n",
       "      <td>Accessories</td>\n",
       "      <td>Wayfarer Style Sunglasses Dark Lens Black Frame</td>\n",
       "      <td>Wayfayrer</td>\n",
       "      <td>1.50</td>\n",
       "      <td>Men</td>\n",
       "      <td>8</td>\n",
       "    </tr>\n",
       "    <tr>\n",
       "      <th>3</th>\n",
       "      <td>83488</td>\n",
       "      <td>327211</td>\n",
       "      <td>M</td>\n",
       "      <td>Returned</td>\n",
       "      <td>2023-04-26 04:08:20.000000 UTC</td>\n",
       "      <td>2023-04-26 15:20:00.000000 UTC</td>\n",
       "      <td>2023-04-28 23:59:00.000000 UTC</td>\n",
       "      <td>2023-04-30 13:08:00.000000 UTC</td>\n",
       "      <td>1.50</td>\n",
       "      <td>1</td>\n",
       "      <td>NaN</td>\n",
       "      <td>0.60600</td>\n",
       "      <td>Accessories</td>\n",
       "      <td>Wayfarer Style Sunglasses Dark Lens Black Frame</td>\n",
       "      <td>Wayfayrer</td>\n",
       "      <td>1.50</td>\n",
       "      <td>Men</td>\n",
       "      <td>8</td>\n",
       "    </tr>\n",
       "    <tr>\n",
       "      <th>4</th>\n",
       "      <td>28402</td>\n",
       "      <td>111135</td>\n",
       "      <td>F</td>\n",
       "      <td>Cancelled</td>\n",
       "      <td>2023-04-02 03:21:08.000000 UTC</td>\n",
       "      <td>NaN</td>\n",
       "      <td>NaN</td>\n",
       "      <td>NaN</td>\n",
       "      <td>1.51</td>\n",
       "      <td>4</td>\n",
       "      <td>NaN</td>\n",
       "      <td>0.64477</td>\n",
       "      <td>Accessories</td>\n",
       "      <td>Solid Color Leather Adjustable Skinny Belt with</td>\n",
       "      <td>boxed-gifts</td>\n",
       "      <td>1.51</td>\n",
       "      <td>Women</td>\n",
       "      <td>10</td>\n",
       "    </tr>\n",
       "  </tbody>\n",
       "</table>\n",
       "</div>"
      ],
      "text/plain": [
       "   order_id  inventory_item_id gender      status  \\\n",
       "0    124266             487074      F     Shipped   \n",
       "1     92782             363599      F    Complete   \n",
       "2     29061             113659      M  Processing   \n",
       "3     83488             327211      M    Returned   \n",
       "4     28402             111135      F   Cancelled   \n",
       "\n",
       "                       created_at                      shipped_at  \\\n",
       "0  2023-05-15 06:25:24.000000 UTC  2023-05-11 19:08:00.000000 UTC   \n",
       "1  2023-02-20 15:55:38.000000 UTC  2023-02-21 17:53:00.000000 UTC   \n",
       "2  2023-01-28 00:48:32.000000 UTC                             NaN   \n",
       "3  2023-04-26 04:08:20.000000 UTC  2023-04-26 15:20:00.000000 UTC   \n",
       "4  2023-04-02 03:21:08.000000 UTC                             NaN   \n",
       "\n",
       "                     delivered_at                     returned_at  sale_price  \\\n",
       "0                             NaN                             NaN        0.02   \n",
       "1  2023-02-25 20:43:00.000000 UTC                             NaN        0.49   \n",
       "2                             NaN                             NaN        1.50   \n",
       "3  2023-04-28 23:59:00.000000 UTC  2023-04-30 13:08:00.000000 UTC        1.50   \n",
       "4                             NaN                             NaN        1.51   \n",
       "\n",
       "   num_of_item  sold_at     cost product_category  \\\n",
       "0            4      NaN  0.00830      Accessories   \n",
       "1            2      NaN  0.17738      Accessories   \n",
       "2            2      NaN  0.60600      Accessories   \n",
       "3            1      NaN  0.60600      Accessories   \n",
       "4            4      NaN  0.64477      Accessories   \n",
       "\n",
       "                                        product_name product_brand  \\\n",
       "0         Indestructable Aluminum Aluma Wallet - RED       marshal   \n",
       "1  Set of 2 - Replacement Insert For Checkbook Wa...   Made in USA   \n",
       "2    Wayfarer Style Sunglasses Dark Lens Black Frame     Wayfayrer   \n",
       "3    Wayfarer Style Sunglasses Dark Lens Black Frame     Wayfayrer   \n",
       "4    Solid Color Leather Adjustable Skinny Belt with   boxed-gifts   \n",
       "\n",
       "   product_retail_price product_department  product_distribution_center_id  \n",
       "0                  0.02              Women                               1  \n",
       "1                  0.49              Women                               1  \n",
       "2                  1.50                Men                               8  \n",
       "3                  1.50                Men                               8  \n",
       "4                  1.51              Women                              10  "
      ]
     },
     "execution_count": 2,
     "metadata": {},
     "output_type": "execute_result"
    }
   ],
   "source": [
    "df= pd.read_csv('thelook_3.csv')\n",
    "df.head()"
   ]
  },
  {
   "cell_type": "markdown",
   "metadata": {},
   "source": [
    "Dataset diatas merupakan dataset yang akan kita lakukan proses analisis. Terlihat pada dataset diatas terdapat order_id dan inventory item id sebagai penjelasan setiap dari ID. Kemudian kita bisa menemukan kolom dibuat tanggal, dikirim pada, jumlah item dan item yang terjual. Terdapat juga penjelasan product name, brand dan beberapaketerangan mengenai harga dan departemen serta paling akhir terdapat distribution center. "
   ]
  },
  {
   "cell_type": "markdown",
   "metadata": {},
   "source": [
    "## Data Exploration "
   ]
  },
  {
   "cell_type": "code",
   "execution_count": 3,
   "metadata": {},
   "outputs": [
    {
     "name": "stdout",
     "output_type": "stream",
     "text": [
      "<class 'pandas.core.frame.DataFrame'>\n",
      "RangeIndex: 17423 entries, 0 to 17422\n",
      "Data columns (total 18 columns):\n",
      " #   Column                          Non-Null Count  Dtype  \n",
      "---  ------                          --------------  -----  \n",
      " 0   order_id                        17423 non-null  int64  \n",
      " 1   inventory_item_id               17423 non-null  int64  \n",
      " 2   gender                          17423 non-null  object \n",
      " 3   status                          17423 non-null  object \n",
      " 4   created_at                      17423 non-null  object \n",
      " 5   shipped_at                      11472 non-null  object \n",
      " 6   delivered_at                    6208 non-null   object \n",
      " 7   returned_at                     1741 non-null   object \n",
      " 8   sale_price                      17423 non-null  float64\n",
      " 9   num_of_item                     17423 non-null  int64  \n",
      " 10  sold_at                         0 non-null      float64\n",
      " 11  cost                            17423 non-null  float64\n",
      " 12  product_category                17423 non-null  object \n",
      " 13  product_name                    17422 non-null  object \n",
      " 14  product_brand                   17408 non-null  object \n",
      " 15  product_retail_price            17423 non-null  float64\n",
      " 16  product_department              17423 non-null  object \n",
      " 17  product_distribution_center_id  17423 non-null  int64  \n",
      "dtypes: float64(4), int64(4), object(10)\n",
      "memory usage: 2.4+ MB\n"
     ]
    }
   ],
   "source": [
    "df.info()"
   ]
  },
  {
   "cell_type": "markdown",
   "metadata": {},
   "source": [
    "Di atas terdapat penjelasan singkat mengenai bagaimana bentuk data jumlah kolom dan beberapa informasi mengenai total jumlah non null. Yang menarik disini, terlihat pada kolom sold_at terdapa 0 non null. Ini berarti bahwa kolom tersebut tidak memiliki isi, semua baris merupakan kolom kosong maka kita bisa membuang kolom sold_at tersebut. \n",
    "\n",
    "Kita pindah ke nama kolom tidak ada whitespace terlihat disini akan coba kita cek ulang nanti. Dari Dtype sepertinya type sudah banyak yang benar. Type data yang salah ada beberapa terdapat pada penanggalan seperti created_at, delivered_at, dsb. Di kolom-kolom bertipe tanggal tersebut, kita akan mengganti type kolom tersebut sesuai dengan yang dibutuhkan oleh sistem. "
   ]
  },
  {
   "cell_type": "code",
   "execution_count": 4,
   "metadata": {},
   "outputs": [
    {
     "data": {
      "text/plain": [
       "(17423, 18)"
      ]
     },
     "execution_count": 4,
     "metadata": {},
     "output_type": "execute_result"
    }
   ],
   "source": [
    "# Melihat total baris dan kolom\n",
    "df.shape"
   ]
  },
  {
   "cell_type": "markdown",
   "metadata": {},
   "source": [
    "Terlihat disini dataset memiliki 17ribu baris dan 18 kolom. "
   ]
  },
  {
   "cell_type": "code",
   "execution_count": 5,
   "metadata": {},
   "outputs": [
    {
     "data": {
      "text/plain": [
       "Index(['order_id', 'inventory_item_id', 'gender', 'status', 'created_at',\n",
       "       'shipped_at', 'delivered_at', 'returned_at', 'sale_price',\n",
       "       'num_of_item', 'sold_at', 'cost', 'product_category', 'product_name',\n",
       "       'product_brand', 'product_retail_price', 'product_department',\n",
       "       'product_distribution_center_id'],\n",
       "      dtype='object')"
      ]
     },
     "execution_count": 5,
     "metadata": {},
     "output_type": "execute_result"
    }
   ],
   "source": [
    "# cek kolom\n",
    "df.columns"
   ]
  },
  {
   "cell_type": "markdown",
   "metadata": {},
   "source": [
    "Dari penamaan kolom tidak terdapat whitespace dataset aman. "
   ]
  },
  {
   "cell_type": "code",
   "execution_count": 6,
   "metadata": {},
   "outputs": [
    {
     "data": {
      "text/plain": [
       "order_id                              0\n",
       "inventory_item_id                     0\n",
       "gender                                0\n",
       "status                                0\n",
       "created_at                            0\n",
       "shipped_at                         5951\n",
       "delivered_at                      11215\n",
       "returned_at                       15682\n",
       "sale_price                            0\n",
       "num_of_item                           0\n",
       "sold_at                           17423\n",
       "cost                                  0\n",
       "product_category                      0\n",
       "product_name                          1\n",
       "product_brand                        15\n",
       "product_retail_price                  0\n",
       "product_department                    0\n",
       "product_distribution_center_id        0\n",
       "dtype: int64"
      ]
     },
     "execution_count": 6,
     "metadata": {},
     "output_type": "execute_result"
    }
   ],
   "source": [
    "#cek missing value\n",
    "df.isna().sum()"
   ]
  },
  {
   "cell_type": "markdown",
   "metadata": {},
   "source": [
    "Terlihat disini masih terdapat beberapa missing value, missing value banyak terjadi kolom kolom penanggalan. Secara logika itu masuk akal. Sebagai contoh kasus,  memang mungkin barang itu sudah \n",
    "terkirim, sehingga tidak ada tulisan barang kembali pada kolom returned at. Jadi pada kolom returned_at pasti akan menjadi kolom missing value\n",
    "\n",
    "Sold at semua missing value sudah kita bahas sebelumnya. Untuk produk brand kita lihat secara mendetail. Apakah kolom lainnya masih bisa dimanfaatkan atau tidak untuk analisis data. "
   ]
  },
  {
   "cell_type": "code",
   "execution_count": 7,
   "metadata": {},
   "outputs": [
    {
     "data": {
      "text/plain": [
       "0"
      ]
     },
     "execution_count": 7,
     "metadata": {},
     "output_type": "execute_result"
    }
   ],
   "source": [
    "# Cek duplikasi data \n",
    "df.duplicated().sum()"
   ]
  },
  {
   "cell_type": "markdown",
   "metadata": {},
   "source": [
    "Tidak terdapat duplikasi kolom. Kita bisa langsung menuju ke section data cleaning. "
   ]
  },
  {
   "cell_type": "markdown",
   "metadata": {},
   "source": [
    "# Data Cleaning "
   ]
  },
  {
   "cell_type": "code",
   "execution_count": 8,
   "metadata": {},
   "outputs": [
    {
     "data": {
      "text/plain": [
       "Index(['order_id', 'inventory_item_id', 'gender', 'status', 'created_at',\n",
       "       'shipped_at', 'delivered_at', 'returned_at', 'sale_price',\n",
       "       'num_of_item', 'cost', 'product_category', 'product_name',\n",
       "       'product_brand', 'product_retail_price', 'product_department',\n",
       "       'product_distribution_center_id'],\n",
       "      dtype='object')"
      ]
     },
     "execution_count": 8,
     "metadata": {},
     "output_type": "execute_result"
    }
   ],
   "source": [
    "# drop column sold at\n",
    "df = df.drop('sold_at', axis=1)\n",
    "df.columns"
   ]
  },
  {
   "cell_type": "markdown",
   "metadata": {},
   "source": [
    "Terlihat pada gambar diatas kolom sold at sudah tidak ada. "
   ]
  },
  {
   "cell_type": "code",
   "execution_count": 9,
   "metadata": {},
   "outputs": [
    {
     "data": {
      "text/html": [
       "<div>\n",
       "<style scoped>\n",
       "    .dataframe tbody tr th:only-of-type {\n",
       "        vertical-align: middle;\n",
       "    }\n",
       "\n",
       "    .dataframe tbody tr th {\n",
       "        vertical-align: top;\n",
       "    }\n",
       "\n",
       "    .dataframe thead th {\n",
       "        text-align: right;\n",
       "    }\n",
       "</style>\n",
       "<table border=\"1\" class=\"dataframe\">\n",
       "  <thead>\n",
       "    <tr style=\"text-align: right;\">\n",
       "      <th></th>\n",
       "      <th>sale_price</th>\n",
       "      <th>product_retail_price</th>\n",
       "    </tr>\n",
       "  </thead>\n",
       "  <tbody>\n",
       "    <tr>\n",
       "      <th>0</th>\n",
       "      <td>0.02</td>\n",
       "      <td>0.02</td>\n",
       "    </tr>\n",
       "    <tr>\n",
       "      <th>1</th>\n",
       "      <td>0.49</td>\n",
       "      <td>0.49</td>\n",
       "    </tr>\n",
       "    <tr>\n",
       "      <th>2</th>\n",
       "      <td>1.50</td>\n",
       "      <td>1.50</td>\n",
       "    </tr>\n",
       "    <tr>\n",
       "      <th>3</th>\n",
       "      <td>1.50</td>\n",
       "      <td>1.50</td>\n",
       "    </tr>\n",
       "    <tr>\n",
       "      <th>4</th>\n",
       "      <td>1.51</td>\n",
       "      <td>1.51</td>\n",
       "    </tr>\n",
       "    <tr>\n",
       "      <th>5</th>\n",
       "      <td>1.51</td>\n",
       "      <td>1.51</td>\n",
       "    </tr>\n",
       "    <tr>\n",
       "      <th>6</th>\n",
       "      <td>1.82</td>\n",
       "      <td>1.82</td>\n",
       "    </tr>\n",
       "    <tr>\n",
       "      <th>7</th>\n",
       "      <td>1.82</td>\n",
       "      <td>1.82</td>\n",
       "    </tr>\n",
       "    <tr>\n",
       "      <th>8</th>\n",
       "      <td>1.95</td>\n",
       "      <td>1.95</td>\n",
       "    </tr>\n",
       "    <tr>\n",
       "      <th>9</th>\n",
       "      <td>2.67</td>\n",
       "      <td>2.67</td>\n",
       "    </tr>\n",
       "  </tbody>\n",
       "</table>\n",
       "</div>"
      ],
      "text/plain": [
       "   sale_price  product_retail_price\n",
       "0        0.02                  0.02\n",
       "1        0.49                  0.49\n",
       "2        1.50                  1.50\n",
       "3        1.50                  1.50\n",
       "4        1.51                  1.51\n",
       "5        1.51                  1.51\n",
       "6        1.82                  1.82\n",
       "7        1.82                  1.82\n",
       "8        1.95                  1.95\n",
       "9        2.67                  2.67"
      ]
     },
     "execution_count": 9,
     "metadata": {},
     "output_type": "execute_result"
    }
   ],
   "source": [
    "# cek sale_price dan product_retail_price\n",
    "df.iloc[:10,[8,14]]"
   ]
  },
  {
   "cell_type": "markdown",
   "metadata": {},
   "source": [
    "Terlihat pada 10 baris pertama antara kolom saleprice dan product retail price memiliki nilai yang sama. DIsini kita bisa membuang salah satu. Kita buang product retail price saja. "
   ]
  },
  {
   "cell_type": "code",
   "execution_count": 10,
   "metadata": {},
   "outputs": [
    {
     "data": {
      "text/plain": [
       "Index(['order_id', 'inventory_item_id', 'gender', 'status', 'created_at',\n",
       "       'shipped_at', 'delivered_at', 'returned_at', 'sale_price',\n",
       "       'num_of_item', 'cost', 'product_category', 'product_name',\n",
       "       'product_brand', 'product_department',\n",
       "       'product_distribution_center_id'],\n",
       "      dtype='object')"
      ]
     },
     "execution_count": 10,
     "metadata": {},
     "output_type": "execute_result"
    }
   ],
   "source": [
    "# drop column sold at\n",
    "df = df.drop('product_retail_price', axis=1)\n",
    "df.columns"
   ]
  },
  {
   "cell_type": "markdown",
   "metadata": {},
   "source": [
    "Terlihat pada product retail price sudah tidak ada di isi dari kolom dataset. "
   ]
  },
  {
   "cell_type": "code",
   "execution_count": 11,
   "metadata": {},
   "outputs": [
    {
     "data": {
      "text/html": [
       "<div>\n",
       "<style scoped>\n",
       "    .dataframe tbody tr th:only-of-type {\n",
       "        vertical-align: middle;\n",
       "    }\n",
       "\n",
       "    .dataframe tbody tr th {\n",
       "        vertical-align: top;\n",
       "    }\n",
       "\n",
       "    .dataframe thead th {\n",
       "        text-align: right;\n",
       "    }\n",
       "</style>\n",
       "<table border=\"1\" class=\"dataframe\">\n",
       "  <thead>\n",
       "    <tr style=\"text-align: right;\">\n",
       "      <th></th>\n",
       "      <th>order_id</th>\n",
       "      <th>inventory_item_id</th>\n",
       "      <th>gender</th>\n",
       "      <th>status</th>\n",
       "      <th>created_at</th>\n",
       "      <th>shipped_at</th>\n",
       "      <th>delivered_at</th>\n",
       "      <th>returned_at</th>\n",
       "      <th>sale_price</th>\n",
       "      <th>num_of_item</th>\n",
       "      <th>cost</th>\n",
       "      <th>product_category</th>\n",
       "      <th>product_name</th>\n",
       "      <th>product_brand</th>\n",
       "      <th>product_department</th>\n",
       "      <th>product_distribution_center_id</th>\n",
       "    </tr>\n",
       "  </thead>\n",
       "  <tbody>\n",
       "    <tr>\n",
       "      <th>62</th>\n",
       "      <td>94894</td>\n",
       "      <td>371766</td>\n",
       "      <td>F</td>\n",
       "      <td>Cancelled</td>\n",
       "      <td>2023-06-09 05:22:56.000000 UTC</td>\n",
       "      <td>NaN</td>\n",
       "      <td>NaN</td>\n",
       "      <td>NaN</td>\n",
       "      <td>4.21</td>\n",
       "      <td>4</td>\n",
       "      <td>1.64190</td>\n",
       "      <td>Accessories</td>\n",
       "      <td>NEW Aluminum Credit Card Wallet - RFID Blockin...</td>\n",
       "      <td>NaN</td>\n",
       "      <td>Women</td>\n",
       "      <td>3</td>\n",
       "    </tr>\n",
       "    <tr>\n",
       "      <th>63</th>\n",
       "      <td>67991</td>\n",
       "      <td>266382</td>\n",
       "      <td>F</td>\n",
       "      <td>Complete</td>\n",
       "      <td>2023-04-21 01:50:57.000000 UTC</td>\n",
       "      <td>2023-04-22 23:05:00.000000 UTC</td>\n",
       "      <td>2023-04-25 19:40:00.000000 UTC</td>\n",
       "      <td>NaN</td>\n",
       "      <td>4.21</td>\n",
       "      <td>1</td>\n",
       "      <td>2.23551</td>\n",
       "      <td>Plus</td>\n",
       "      <td>NEW Aluminum Credit Card Wallet - RFID Blockin...</td>\n",
       "      <td>NaN</td>\n",
       "      <td>Women</td>\n",
       "      <td>3</td>\n",
       "    </tr>\n",
       "    <tr>\n",
       "      <th>3960</th>\n",
       "      <td>107229</td>\n",
       "      <td>420168</td>\n",
       "      <td>M</td>\n",
       "      <td>Cancelled</td>\n",
       "      <td>2023-03-05 01:52:07.000000 UTC</td>\n",
       "      <td>NaN</td>\n",
       "      <td>NaN</td>\n",
       "      <td>NaN</td>\n",
       "      <td>22.48</td>\n",
       "      <td>2</td>\n",
       "      <td>12.47640</td>\n",
       "      <td>Socks</td>\n",
       "      <td>Volcom Men's Argyle Socks</td>\n",
       "      <td>NaN</td>\n",
       "      <td>Men</td>\n",
       "      <td>3</td>\n",
       "    </tr>\n",
       "    <tr>\n",
       "      <th>4373</th>\n",
       "      <td>56692</td>\n",
       "      <td>222162</td>\n",
       "      <td>F</td>\n",
       "      <td>Complete</td>\n",
       "      <td>2023-02-16 13:51:13.000000 UTC</td>\n",
       "      <td>2023-02-17 13:07:00.000000 UTC</td>\n",
       "      <td>2023-02-19 06:16:00.000000 UTC</td>\n",
       "      <td>NaN</td>\n",
       "      <td>24.25</td>\n",
       "      <td>2</td>\n",
       "      <td>9.55450</td>\n",
       "      <td>Accessories</td>\n",
       "      <td>Husky Animal Hat with Mittens</td>\n",
       "      <td>NaN</td>\n",
       "      <td>Women</td>\n",
       "      <td>3</td>\n",
       "    </tr>\n",
       "    <tr>\n",
       "      <th>4692</th>\n",
       "      <td>60964</td>\n",
       "      <td>238980</td>\n",
       "      <td>M</td>\n",
       "      <td>Cancelled</td>\n",
       "      <td>2023-06-04 13:03:50.000000 UTC</td>\n",
       "      <td>NaN</td>\n",
       "      <td>NaN</td>\n",
       "      <td>NaN</td>\n",
       "      <td>25.00</td>\n",
       "      <td>2</td>\n",
       "      <td>14.42500</td>\n",
       "      <td>Socks</td>\n",
       "      <td>SockGuy Men's Kokopelli Socks</td>\n",
       "      <td>NaN</td>\n",
       "      <td>Men</td>\n",
       "      <td>3</td>\n",
       "    </tr>\n",
       "  </tbody>\n",
       "</table>\n",
       "</div>"
      ],
      "text/plain": [
       "      order_id  inventory_item_id gender     status  \\\n",
       "62       94894             371766      F  Cancelled   \n",
       "63       67991             266382      F   Complete   \n",
       "3960    107229             420168      M  Cancelled   \n",
       "4373     56692             222162      F   Complete   \n",
       "4692     60964             238980      M  Cancelled   \n",
       "\n",
       "                          created_at                      shipped_at  \\\n",
       "62    2023-06-09 05:22:56.000000 UTC                             NaN   \n",
       "63    2023-04-21 01:50:57.000000 UTC  2023-04-22 23:05:00.000000 UTC   \n",
       "3960  2023-03-05 01:52:07.000000 UTC                             NaN   \n",
       "4373  2023-02-16 13:51:13.000000 UTC  2023-02-17 13:07:00.000000 UTC   \n",
       "4692  2023-06-04 13:03:50.000000 UTC                             NaN   \n",
       "\n",
       "                        delivered_at returned_at  sale_price  num_of_item  \\\n",
       "62                               NaN         NaN        4.21            4   \n",
       "63    2023-04-25 19:40:00.000000 UTC         NaN        4.21            1   \n",
       "3960                             NaN         NaN       22.48            2   \n",
       "4373  2023-02-19 06:16:00.000000 UTC         NaN       24.25            2   \n",
       "4692                             NaN         NaN       25.00            2   \n",
       "\n",
       "          cost product_category  \\\n",
       "62     1.64190      Accessories   \n",
       "63     2.23551             Plus   \n",
       "3960  12.47640            Socks   \n",
       "4373   9.55450      Accessories   \n",
       "4692  14.42500            Socks   \n",
       "\n",
       "                                           product_name product_brand  \\\n",
       "62    NEW Aluminum Credit Card Wallet - RFID Blockin...           NaN   \n",
       "63    NEW Aluminum Credit Card Wallet - RFID Blockin...           NaN   \n",
       "3960                          Volcom Men's Argyle Socks           NaN   \n",
       "4373                      Husky Animal Hat with Mittens           NaN   \n",
       "4692                      SockGuy Men's Kokopelli Socks           NaN   \n",
       "\n",
       "     product_department  product_distribution_center_id  \n",
       "62                Women                               3  \n",
       "63                Women                               3  \n",
       "3960                Men                               3  \n",
       "4373              Women                               3  \n",
       "4692                Men                               3  "
      ]
     },
     "execution_count": 11,
     "metadata": {},
     "output_type": "execute_result"
    }
   ],
   "source": [
    "df[df['product_brand'].isna()].head()"
   ]
  },
  {
   "cell_type": "markdown",
   "metadata": {},
   "source": [
    "Terlihat disini pada kolom lain memang memiliki isi, kemungkinan memang pada produk itu memang tidak mempunyai nama. Jadi, kita bisa membiarkan kolom missing value pada product brand. "
   ]
  },
  {
   "cell_type": "code",
   "execution_count": 12,
   "metadata": {},
   "outputs": [
    {
     "data": {
      "text/html": [
       "<div>\n",
       "<style scoped>\n",
       "    .dataframe tbody tr th:only-of-type {\n",
       "        vertical-align: middle;\n",
       "    }\n",
       "\n",
       "    .dataframe tbody tr th {\n",
       "        vertical-align: top;\n",
       "    }\n",
       "\n",
       "    .dataframe thead th {\n",
       "        text-align: right;\n",
       "    }\n",
       "</style>\n",
       "<table border=\"1\" class=\"dataframe\">\n",
       "  <thead>\n",
       "    <tr style=\"text-align: right;\">\n",
       "      <th></th>\n",
       "      <th>status</th>\n",
       "      <th>created_at</th>\n",
       "      <th>shipped_at</th>\n",
       "      <th>delivered_at</th>\n",
       "      <th>returned_at</th>\n",
       "    </tr>\n",
       "  </thead>\n",
       "  <tbody>\n",
       "    <tr>\n",
       "      <th>0</th>\n",
       "      <td>Shipped</td>\n",
       "      <td>2023-05-15 06:25:24.000000 UTC</td>\n",
       "      <td>2023-05-11 19:08:00.000000 UTC</td>\n",
       "      <td>NaN</td>\n",
       "      <td>NaN</td>\n",
       "    </tr>\n",
       "    <tr>\n",
       "      <th>1</th>\n",
       "      <td>Complete</td>\n",
       "      <td>2023-02-20 15:55:38.000000 UTC</td>\n",
       "      <td>2023-02-21 17:53:00.000000 UTC</td>\n",
       "      <td>2023-02-25 20:43:00.000000 UTC</td>\n",
       "      <td>NaN</td>\n",
       "    </tr>\n",
       "    <tr>\n",
       "      <th>2</th>\n",
       "      <td>Processing</td>\n",
       "      <td>2023-01-28 00:48:32.000000 UTC</td>\n",
       "      <td>NaN</td>\n",
       "      <td>NaN</td>\n",
       "      <td>NaN</td>\n",
       "    </tr>\n",
       "    <tr>\n",
       "      <th>3</th>\n",
       "      <td>Returned</td>\n",
       "      <td>2023-04-26 04:08:20.000000 UTC</td>\n",
       "      <td>2023-04-26 15:20:00.000000 UTC</td>\n",
       "      <td>2023-04-28 23:59:00.000000 UTC</td>\n",
       "      <td>2023-04-30 13:08:00.000000 UTC</td>\n",
       "    </tr>\n",
       "    <tr>\n",
       "      <th>4</th>\n",
       "      <td>Cancelled</td>\n",
       "      <td>2023-04-02 03:21:08.000000 UTC</td>\n",
       "      <td>NaN</td>\n",
       "      <td>NaN</td>\n",
       "      <td>NaN</td>\n",
       "    </tr>\n",
       "    <tr>\n",
       "      <th>5</th>\n",
       "      <td>Cancelled</td>\n",
       "      <td>2023-05-16 23:46:59.000000 UTC</td>\n",
       "      <td>NaN</td>\n",
       "      <td>NaN</td>\n",
       "      <td>NaN</td>\n",
       "    </tr>\n",
       "    <tr>\n",
       "      <th>6</th>\n",
       "      <td>Returned</td>\n",
       "      <td>2023-05-03 08:06:23.000000 UTC</td>\n",
       "      <td>2023-05-03 08:33:00.000000 UTC</td>\n",
       "      <td>2023-05-06 08:56:00.000000 UTC</td>\n",
       "      <td>2023-05-08 04:24:00.000000 UTC</td>\n",
       "    </tr>\n",
       "    <tr>\n",
       "      <th>7</th>\n",
       "      <td>Returned</td>\n",
       "      <td>2023-03-07 00:55:08.000000 UTC</td>\n",
       "      <td>2023-03-05 07:36:00.000000 UTC</td>\n",
       "      <td>2023-03-05 15:52:00.000000 UTC</td>\n",
       "      <td>2023-03-07 03:43:00.000000 UTC</td>\n",
       "    </tr>\n",
       "    <tr>\n",
       "      <th>8</th>\n",
       "      <td>Shipped</td>\n",
       "      <td>2023-01-22 02:55:29.000000 UTC</td>\n",
       "      <td>2023-01-19 21:01:00.000000 UTC</td>\n",
       "      <td>NaN</td>\n",
       "      <td>NaN</td>\n",
       "    </tr>\n",
       "    <tr>\n",
       "      <th>9</th>\n",
       "      <td>Shipped</td>\n",
       "      <td>2023-01-22 11:50:46.000000 UTC</td>\n",
       "      <td>2023-01-24 18:15:00.000000 UTC</td>\n",
       "      <td>NaN</td>\n",
       "      <td>NaN</td>\n",
       "    </tr>\n",
       "  </tbody>\n",
       "</table>\n",
       "</div>"
      ],
      "text/plain": [
       "       status                      created_at                      shipped_at  \\\n",
       "0     Shipped  2023-05-15 06:25:24.000000 UTC  2023-05-11 19:08:00.000000 UTC   \n",
       "1    Complete  2023-02-20 15:55:38.000000 UTC  2023-02-21 17:53:00.000000 UTC   \n",
       "2  Processing  2023-01-28 00:48:32.000000 UTC                             NaN   \n",
       "3    Returned  2023-04-26 04:08:20.000000 UTC  2023-04-26 15:20:00.000000 UTC   \n",
       "4   Cancelled  2023-04-02 03:21:08.000000 UTC                             NaN   \n",
       "5   Cancelled  2023-05-16 23:46:59.000000 UTC                             NaN   \n",
       "6    Returned  2023-05-03 08:06:23.000000 UTC  2023-05-03 08:33:00.000000 UTC   \n",
       "7    Returned  2023-03-07 00:55:08.000000 UTC  2023-03-05 07:36:00.000000 UTC   \n",
       "8     Shipped  2023-01-22 02:55:29.000000 UTC  2023-01-19 21:01:00.000000 UTC   \n",
       "9     Shipped  2023-01-22 11:50:46.000000 UTC  2023-01-24 18:15:00.000000 UTC   \n",
       "\n",
       "                     delivered_at                     returned_at  \n",
       "0                             NaN                             NaN  \n",
       "1  2023-02-25 20:43:00.000000 UTC                             NaN  \n",
       "2                             NaN                             NaN  \n",
       "3  2023-04-28 23:59:00.000000 UTC  2023-04-30 13:08:00.000000 UTC  \n",
       "4                             NaN                             NaN  \n",
       "5                             NaN                             NaN  \n",
       "6  2023-05-06 08:56:00.000000 UTC  2023-05-08 04:24:00.000000 UTC  \n",
       "7  2023-03-05 15:52:00.000000 UTC  2023-03-07 03:43:00.000000 UTC  \n",
       "8                             NaN                             NaN  \n",
       "9                             NaN                             NaN  "
      ]
     },
     "execution_count": 12,
     "metadata": {},
     "output_type": "execute_result"
    }
   ],
   "source": [
    "df.iloc[:10,3:8]"
   ]
  },
  {
   "cell_type": "markdown",
   "metadata": {},
   "source": [
    "Disini terlihat bahwa memang seperti pelaporan tanggal untuk kolom koolom diatas. Jadi kolom diatas bisa dirubah ke penanggalan. "
   ]
  },
  {
   "cell_type": "code",
   "execution_count": 13,
   "metadata": {},
   "outputs": [
    {
     "name": "stdout",
     "output_type": "stream",
     "text": [
      "<class 'pandas.core.frame.DataFrame'>\n",
      "RangeIndex: 17423 entries, 0 to 17422\n",
      "Data columns (total 16 columns):\n",
      " #   Column                          Non-Null Count  Dtype              \n",
      "---  ------                          --------------  -----              \n",
      " 0   order_id                        17423 non-null  int64              \n",
      " 1   inventory_item_id               17423 non-null  int64              \n",
      " 2   gender                          17423 non-null  object             \n",
      " 3   status                          17423 non-null  object             \n",
      " 4   created_at                      17423 non-null  datetime64[ns, UTC]\n",
      " 5   shipped_at                      11472 non-null  datetime64[ns, UTC]\n",
      " 6   delivered_at                    6208 non-null   datetime64[ns, UTC]\n",
      " 7   returned_at                     1741 non-null   datetime64[ns, UTC]\n",
      " 8   sale_price                      17423 non-null  float64            \n",
      " 9   num_of_item                     17423 non-null  int64              \n",
      " 10  cost                            17423 non-null  float64            \n",
      " 11  product_category                17423 non-null  object             \n",
      " 12  product_name                    17422 non-null  object             \n",
      " 13  product_brand                   17408 non-null  object             \n",
      " 14  product_department              17423 non-null  object             \n",
      " 15  product_distribution_center_id  17423 non-null  int64              \n",
      "dtypes: datetime64[ns, UTC](4), float64(2), int64(4), object(6)\n",
      "memory usage: 2.1+ MB\n"
     ]
    }
   ],
   "source": [
    "# Ubah semua kolom tanggal ke datetime\n",
    "df[['created_at', 'shipped_at', 'delivered_at', 'returned_at']] = df[['created_at', 'shipped_at', 'delivered_at', 'returned_at']].apply(pd.to_datetime, errors='coerce')\n",
    "df.info()"
   ]
  },
  {
   "cell_type": "markdown",
   "metadata": {},
   "source": [
    "kolom tanggal sudah sesuai type data menjadi datetime. "
   ]
  },
  {
   "cell_type": "code",
   "execution_count": 14,
   "metadata": {},
   "outputs": [
    {
     "data": {
      "text/html": [
       "<div>\n",
       "<style scoped>\n",
       "    .dataframe tbody tr th:only-of-type {\n",
       "        vertical-align: middle;\n",
       "    }\n",
       "\n",
       "    .dataframe tbody tr th {\n",
       "        vertical-align: top;\n",
       "    }\n",
       "\n",
       "    .dataframe thead th {\n",
       "        text-align: right;\n",
       "    }\n",
       "</style>\n",
       "<table border=\"1\" class=\"dataframe\">\n",
       "  <thead>\n",
       "    <tr style=\"text-align: right;\">\n",
       "      <th></th>\n",
       "      <th>gender</th>\n",
       "      <th>product_department</th>\n",
       "    </tr>\n",
       "  </thead>\n",
       "  <tbody>\n",
       "    <tr>\n",
       "      <th>1</th>\n",
       "      <td>F</td>\n",
       "      <td>Women</td>\n",
       "    </tr>\n",
       "    <tr>\n",
       "      <th>2</th>\n",
       "      <td>M</td>\n",
       "      <td>Men</td>\n",
       "    </tr>\n",
       "    <tr>\n",
       "      <th>3</th>\n",
       "      <td>M</td>\n",
       "      <td>Men</td>\n",
       "    </tr>\n",
       "    <tr>\n",
       "      <th>4</th>\n",
       "      <td>F</td>\n",
       "      <td>Women</td>\n",
       "    </tr>\n",
       "  </tbody>\n",
       "</table>\n",
       "</div>"
      ],
      "text/plain": [
       "  gender product_department\n",
       "1      F              Women\n",
       "2      M                Men\n",
       "3      M                Men\n",
       "4      F              Women"
      ]
     },
     "execution_count": 14,
     "metadata": {},
     "output_type": "execute_result"
    }
   ],
   "source": [
    "# cek kolom mencurigakan \n",
    "df.iloc[1:5,[2,14]]"
   ]
  },
  {
   "cell_type": "markdown",
   "metadata": {},
   "source": [
    "Pada kolom departemen dan gender ternyata memiliki kolom yang sama jadi kolom ini bisa kita kita hapus salah satu. "
   ]
  },
  {
   "cell_type": "code",
   "execution_count": 15,
   "metadata": {},
   "outputs": [
    {
     "data": {
      "text/plain": [
       "Index(['order_id', 'inventory_item_id', 'gender', 'status', 'created_at',\n",
       "       'shipped_at', 'delivered_at', 'returned_at', 'sale_price',\n",
       "       'num_of_item', 'cost', 'product_category', 'product_name',\n",
       "       'product_brand', 'product_distribution_center_id'],\n",
       "      dtype='object')"
      ]
     },
     "execution_count": 15,
     "metadata": {},
     "output_type": "execute_result"
    }
   ],
   "source": [
    "# drop column sold at\n",
    "df = df.drop('product_department', axis=1)\n",
    "df.columns"
   ]
  },
  {
   "cell_type": "markdown",
   "metadata": {},
   "source": [
    "# EDA "
   ]
  },
  {
   "cell_type": "code",
   "execution_count": 16,
   "metadata": {},
   "outputs": [
    {
     "data": {
      "text/html": [
       "<div>\n",
       "<style scoped>\n",
       "    .dataframe tbody tr th:only-of-type {\n",
       "        vertical-align: middle;\n",
       "    }\n",
       "\n",
       "    .dataframe tbody tr th {\n",
       "        vertical-align: top;\n",
       "    }\n",
       "\n",
       "    .dataframe thead th {\n",
       "        text-align: right;\n",
       "    }\n",
       "</style>\n",
       "<table border=\"1\" class=\"dataframe\">\n",
       "  <thead>\n",
       "    <tr style=\"text-align: right;\">\n",
       "      <th></th>\n",
       "      <th>order_id</th>\n",
       "      <th>inventory_item_id</th>\n",
       "      <th>sale_price</th>\n",
       "      <th>num_of_item</th>\n",
       "      <th>cost</th>\n",
       "      <th>product_distribution_center_id</th>\n",
       "    </tr>\n",
       "  </thead>\n",
       "  <tbody>\n",
       "    <tr>\n",
       "      <th>count</th>\n",
       "      <td>17423.000000</td>\n",
       "      <td>17423.000000</td>\n",
       "      <td>17423.000000</td>\n",
       "      <td>17423.000000</td>\n",
       "      <td>17423.000000</td>\n",
       "      <td>17423.000000</td>\n",
       "    </tr>\n",
       "    <tr>\n",
       "      <th>mean</th>\n",
       "      <td>62643.203581</td>\n",
       "      <td>245439.179705</td>\n",
       "      <td>58.794131</td>\n",
       "      <td>1.896172</td>\n",
       "      <td>28.222176</td>\n",
       "      <td>5.027091</td>\n",
       "    </tr>\n",
       "    <tr>\n",
       "      <th>std</th>\n",
       "      <td>35897.689581</td>\n",
       "      <td>140710.043482</td>\n",
       "      <td>63.099238</td>\n",
       "      <td>1.067334</td>\n",
       "      <td>29.004822</td>\n",
       "      <td>2.896992</td>\n",
       "    </tr>\n",
       "    <tr>\n",
       "      <th>min</th>\n",
       "      <td>21.000000</td>\n",
       "      <td>89.000000</td>\n",
       "      <td>0.020000</td>\n",
       "      <td>1.000000</td>\n",
       "      <td>0.008300</td>\n",
       "      <td>1.000000</td>\n",
       "    </tr>\n",
       "    <tr>\n",
       "      <th>25%</th>\n",
       "      <td>31460.500000</td>\n",
       "      <td>123032.500000</td>\n",
       "      <td>24.059999</td>\n",
       "      <td>1.000000</td>\n",
       "      <td>11.325000</td>\n",
       "      <td>2.000000</td>\n",
       "    </tr>\n",
       "    <tr>\n",
       "      <th>50%</th>\n",
       "      <td>62672.000000</td>\n",
       "      <td>245589.000000</td>\n",
       "      <td>39.990002</td>\n",
       "      <td>2.000000</td>\n",
       "      <td>19.489821</td>\n",
       "      <td>5.000000</td>\n",
       "    </tr>\n",
       "    <tr>\n",
       "      <th>75%</th>\n",
       "      <td>93461.000000</td>\n",
       "      <td>366279.000000</td>\n",
       "      <td>69.500000</td>\n",
       "      <td>2.000000</td>\n",
       "      <td>34.194750</td>\n",
       "      <td>8.000000</td>\n",
       "    </tr>\n",
       "    <tr>\n",
       "      <th>max</th>\n",
       "      <td>125100.000000</td>\n",
       "      <td>490413.000000</td>\n",
       "      <td>999.000000</td>\n",
       "      <td>4.000000</td>\n",
       "      <td>437.052001</td>\n",
       "      <td>10.000000</td>\n",
       "    </tr>\n",
       "  </tbody>\n",
       "</table>\n",
       "</div>"
      ],
      "text/plain": [
       "            order_id  inventory_item_id    sale_price   num_of_item  \\\n",
       "count   17423.000000       17423.000000  17423.000000  17423.000000   \n",
       "mean    62643.203581      245439.179705     58.794131      1.896172   \n",
       "std     35897.689581      140710.043482     63.099238      1.067334   \n",
       "min        21.000000          89.000000      0.020000      1.000000   \n",
       "25%     31460.500000      123032.500000     24.059999      1.000000   \n",
       "50%     62672.000000      245589.000000     39.990002      2.000000   \n",
       "75%     93461.000000      366279.000000     69.500000      2.000000   \n",
       "max    125100.000000      490413.000000    999.000000      4.000000   \n",
       "\n",
       "               cost  product_distribution_center_id  \n",
       "count  17423.000000                    17423.000000  \n",
       "mean      28.222176                        5.027091  \n",
       "std       29.004822                        2.896992  \n",
       "min        0.008300                        1.000000  \n",
       "25%       11.325000                        2.000000  \n",
       "50%       19.489821                        5.000000  \n",
       "75%       34.194750                        8.000000  \n",
       "max      437.052001                       10.000000  "
      ]
     },
     "execution_count": 16,
     "metadata": {},
     "output_type": "execute_result"
    }
   ],
   "source": [
    "df.describe()"
   ]
  },
  {
   "cell_type": "markdown",
   "metadata": {},
   "source": [
    "pada dataset terlihat bahwa rata-rata harga dari barang adalah 58 dan rata rata jumlah item adalah 1,89. Biaya yang dikeluarkan juga memiliki rata-rata 28. Bisa dibilang keuntungan ini cukup mantap karena hampir 100% keuntungan yang diambil. "
   ]
  },
  {
   "cell_type": "code",
   "execution_count": 17,
   "metadata": {},
   "outputs": [
    {
     "data": {
      "image/png": "[encoded data removed]",
      "text/plain": [
       "<Figure size 500x500 with 1 Axes>"
      ]
     },
     "metadata": {},
     "output_type": "display_data"
    }
   ],
   "source": [
    "# Menghitung jumlah response rate tahun lalu \n",
    "\n",
    "# Total_Count_Value Response \n",
    "gender_count = df['gender'].value_counts()\n",
    "\n",
    "\n",
    "# Pembuatan pie chart \n",
    "plt.figure(figsize=(5, 5))\n",
    "plt.pie(gender_count, labels=gender_count.index, autopct='%1.1f%%', startangle=90, colors=['green','turquoise'])\n",
    "plt.title('Order Composition by Gender')\n",
    "plt.show()"
   ]
  },
  {
   "cell_type": "markdown",
   "metadata": {},
   "source": [
    "Kedua departemen, yaitu departemen wanita dan pria, memiliki proporsi kontribusi yang setara berdasarkan total komposisi pemesanan selama enam bulan terakhir, yang menunjukkan distribusi yang seimbang. Oleh karena itu, penting untuk menerapkan kebijakan penyetaraan di berbagai aspek, seperti penelitian dan pengembangan (R&D), pemasaran, penjualan, atau bidang lain yang dapat mendorong kemajuan bersama. Tidak ada perlakuan berbeda terhadap salah satu departemen, karena keduanya memiliki peran yang sama pentingnya dalam mendorong keberhasilan organisasi."
   ]
  },
  {
   "cell_type": "code",
   "execution_count": 18,
   "metadata": {},
   "outputs": [
    {
     "data": {
      "image/png": "[encoded data removed]",
      "text/plain": [
       "<Figure size 500x500 with 1 Axes>"
      ]
     },
     "metadata": {},
     "output_type": "display_data"
    }
   ],
   "source": [
    "# Menghitung jumlah response rate tahun lalu \n",
    "\n",
    "# Total_Count_Value Response \n",
    "gender_count = df['status'].value_counts()\n",
    "\n",
    "\n",
    "# Pembuatan pie chart \n",
    "plt.figure(figsize=(5, 5))\n",
    "plt.pie(gender_count, labels=gender_count.index, autopct='%1.1f%%', startangle=90)\n",
    "plt.title('Distribusi Status Order dalam Grafik Lingkaran')\n",
    "plt.show()"
   ]
  },
  {
   "cell_type": "markdown",
   "metadata": {},
   "source": [
    "Analisis Grafik Distribusi Status Order\n",
    "\n",
    "Grafik distribusi status order menunjukkan bahwa proporsi terbesar ditempati oleh status \"shipped\" sebesar 30%, diikuti oleh status \"complete\" di posisi kedua, sementara status \"returned\" berada di urutan terakhir dengan proporsi 10%. Proporsi \"returned\" ini perlu diminimalkan, karena tingginya pengembalian barang dapat menunjukkan ketidaksesuaian produk dengan harapan konsumen, yang berpotensi merugikan operasional.\n",
    "\n",
    "Sorotan utama dalam analisis ini adalah status \"shipped\", yang angkanya cukup signifikan. Status ini menimbulkan ambiguitas terkait kejelasan proses pengiriman, dengan beberapa pertanyaan yang perlu dijawab:\n",
    "\n",
    "Apakah barang sudah sampai ke tangan konsumen?\n",
    "Apakah barang hilang selama proses pengiriman?\n",
    "Apakah barang sebenarnya belum dikirim oleh penjual?\n",
    "Langkah selanjutnya adalah meninjau lebih dalam data dengan status \"shipped\" untuk mencari informasi tambahan, seperti bukti pengiriman, tanggal pengiriman, dan kemungkinan kendala pengiriman.\n",
    "\n",
    "Selain itu, proporsi status \"processing\" sebesar 19% juga cukup tinggi, menunjukkan bahwa banyak pesanan masih berada dalam tahap awal pemrosesan atau keranjang. Kolaborasi lintas divisi diperlukan untuk mengurangi angka ini, misalnya dengan mendorong pelanggan menyelesaikan transaksi melalui notifikasi pengingat atau promosi.\n",
    "\n",
    "Hal yang positif dari grafik ini adalah status \"complete\" berada di posisi kedua. Jika ambiguitas pada status \"shipped\" dapat diatasi dan statusnya ditingkatkan menjadi \"complete\", maka proporsi status \"complete\" dapat menjadi yang tertinggi, seperti yang idealnya diharapkan dalam sebuah sistem e-commerce.\n",
    "\n",
    "Rekomendasi:\n",
    "Langkah berikut yang perlu diambil adalah:\n",
    "\n",
    "Melakukan investigasi lebih dalam pada status \"shipped\" untuk memperjelas prosesnya.\n",
    "Berkoordinasi dengan tim terkait untuk memastikan pesanan pada status \"shipped\" segera ditindaklanjuti hingga menjadi \"complete\".\n",
    "Menerapkan strategi untuk meminimalkan jumlah pesanan yang berada di status \"processing\", sehingga proses transaksi lebih efisien."
   ]
  },
  {
   "cell_type": "code",
   "execution_count": 19,
   "metadata": {},
   "outputs": [
    {
     "data": {
      "text/html": [
       "<div>\n",
       "<style scoped>\n",
       "    .dataframe tbody tr th:only-of-type {\n",
       "        vertical-align: middle;\n",
       "    }\n",
       "\n",
       "    .dataframe tbody tr th {\n",
       "        vertical-align: top;\n",
       "    }\n",
       "\n",
       "    .dataframe thead th {\n",
       "        text-align: right;\n",
       "    }\n",
       "</style>\n",
       "<table border=\"1\" class=\"dataframe\">\n",
       "  <thead>\n",
       "    <tr style=\"text-align: right;\">\n",
       "      <th></th>\n",
       "      <th>order_id</th>\n",
       "      <th>inventory_item_id</th>\n",
       "      <th>gender</th>\n",
       "      <th>status</th>\n",
       "      <th>created_at</th>\n",
       "      <th>shipped_at</th>\n",
       "      <th>delivered_at</th>\n",
       "      <th>returned_at</th>\n",
       "      <th>sale_price</th>\n",
       "      <th>num_of_item</th>\n",
       "      <th>cost</th>\n",
       "      <th>product_category</th>\n",
       "      <th>product_name</th>\n",
       "      <th>product_brand</th>\n",
       "      <th>product_distribution_center_id</th>\n",
       "    </tr>\n",
       "  </thead>\n",
       "  <tbody>\n",
       "    <tr>\n",
       "      <th>0</th>\n",
       "      <td>124266</td>\n",
       "      <td>487074</td>\n",
       "      <td>F</td>\n",
       "      <td>Shipped</td>\n",
       "      <td>2023-05-15 06:25:24+00:00</td>\n",
       "      <td>2023-05-11 19:08:00+00:00</td>\n",
       "      <td>NaT</td>\n",
       "      <td>NaT</td>\n",
       "      <td>0.02</td>\n",
       "      <td>4</td>\n",
       "      <td>0.008300</td>\n",
       "      <td>Accessories</td>\n",
       "      <td>Indestructable Aluminum Aluma Wallet - RED</td>\n",
       "      <td>marshal</td>\n",
       "      <td>1</td>\n",
       "    </tr>\n",
       "    <tr>\n",
       "      <th>8</th>\n",
       "      <td>40445</td>\n",
       "      <td>158205</td>\n",
       "      <td>F</td>\n",
       "      <td>Shipped</td>\n",
       "      <td>2023-01-22 02:55:29+00:00</td>\n",
       "      <td>2023-01-19 21:01:00+00:00</td>\n",
       "      <td>NaT</td>\n",
       "      <td>NaT</td>\n",
       "      <td>1.95</td>\n",
       "      <td>4</td>\n",
       "      <td>0.772200</td>\n",
       "      <td>Socks &amp; Hosiery</td>\n",
       "      <td>Pink Ribbon Breast Cancer Awareness Knee High ...</td>\n",
       "      <td>Palmetto Fundraising</td>\n",
       "      <td>7</td>\n",
       "    </tr>\n",
       "    <tr>\n",
       "      <th>9</th>\n",
       "      <td>37038</td>\n",
       "      <td>144994</td>\n",
       "      <td>F</td>\n",
       "      <td>Shipped</td>\n",
       "      <td>2023-01-22 11:50:46+00:00</td>\n",
       "      <td>2023-01-24 18:15:00+00:00</td>\n",
       "      <td>NaT</td>\n",
       "      <td>NaT</td>\n",
       "      <td>2.67</td>\n",
       "      <td>1</td>\n",
       "      <td>1.100040</td>\n",
       "      <td>Accessories</td>\n",
       "      <td>Retractable Colorful Rhinestone Lanyards with ...</td>\n",
       "      <td>Coloriffics</td>\n",
       "      <td>2</td>\n",
       "    </tr>\n",
       "    <tr>\n",
       "      <th>17</th>\n",
       "      <td>55396</td>\n",
       "      <td>217102</td>\n",
       "      <td>M</td>\n",
       "      <td>Shipped</td>\n",
       "      <td>2023-04-28 12:31:28+00:00</td>\n",
       "      <td>2023-04-28 07:51:00+00:00</td>\n",
       "      <td>NaT</td>\n",
       "      <td>NaT</td>\n",
       "      <td>2.99</td>\n",
       "      <td>4</td>\n",
       "      <td>1.187030</td>\n",
       "      <td>Accessories</td>\n",
       "      <td>Aviator Sunglasses Mirror Lens Silver Metal Fr...</td>\n",
       "      <td>Urban Boundaries Eyewear</td>\n",
       "      <td>5</td>\n",
       "    </tr>\n",
       "    <tr>\n",
       "      <th>23</th>\n",
       "      <td>53243</td>\n",
       "      <td>208707</td>\n",
       "      <td>M</td>\n",
       "      <td>Shipped</td>\n",
       "      <td>2023-01-31 13:07:20+00:00</td>\n",
       "      <td>2023-02-03 12:25:00+00:00</td>\n",
       "      <td>NaT</td>\n",
       "      <td>NaT</td>\n",
       "      <td>3.29</td>\n",
       "      <td>1</td>\n",
       "      <td>1.217300</td>\n",
       "      <td>Accessories</td>\n",
       "      <td>TopTie Unisex New Fashion White and Black Keyb...</td>\n",
       "      <td>TopTie</td>\n",
       "      <td>10</td>\n",
       "    </tr>\n",
       "    <tr>\n",
       "      <th>...</th>\n",
       "      <td>...</td>\n",
       "      <td>...</td>\n",
       "      <td>...</td>\n",
       "      <td>...</td>\n",
       "      <td>...</td>\n",
       "      <td>...</td>\n",
       "      <td>...</td>\n",
       "      <td>...</td>\n",
       "      <td>...</td>\n",
       "      <td>...</td>\n",
       "      <td>...</td>\n",
       "      <td>...</td>\n",
       "      <td>...</td>\n",
       "      <td>...</td>\n",
       "      <td>...</td>\n",
       "    </tr>\n",
       "    <tr>\n",
       "      <th>17401</th>\n",
       "      <td>1897</td>\n",
       "      <td>7594</td>\n",
       "      <td>F</td>\n",
       "      <td>Shipped</td>\n",
       "      <td>2023-06-23 00:19:51+00:00</td>\n",
       "      <td>2023-06-24 18:31:00+00:00</td>\n",
       "      <td>NaT</td>\n",
       "      <td>NaT</td>\n",
       "      <td>588.00</td>\n",
       "      <td>1</td>\n",
       "      <td>247.548000</td>\n",
       "      <td>Sweaters</td>\n",
       "      <td>Magaschoni Women's 100% Cashmere Cable Sweater...</td>\n",
       "      <td>Magaschoni</td>\n",
       "      <td>1</td>\n",
       "    </tr>\n",
       "    <tr>\n",
       "      <th>17402</th>\n",
       "      <td>17922</td>\n",
       "      <td>70193</td>\n",
       "      <td>M</td>\n",
       "      <td>Shipped</td>\n",
       "      <td>2023-03-16 16:56:10+00:00</td>\n",
       "      <td>2023-03-14 22:22:00+00:00</td>\n",
       "      <td>NaT</td>\n",
       "      <td>NaT</td>\n",
       "      <td>595.00</td>\n",
       "      <td>4</td>\n",
       "      <td>270.725001</td>\n",
       "      <td>Outerwear &amp; Coats</td>\n",
       "      <td>Men's Classic Sheepskin B-3 Bomber Jacket</td>\n",
       "      <td>Overland Sheepskin Co</td>\n",
       "      <td>1</td>\n",
       "    </tr>\n",
       "    <tr>\n",
       "      <th>17405</th>\n",
       "      <td>23887</td>\n",
       "      <td>93502</td>\n",
       "      <td>M</td>\n",
       "      <td>Shipped</td>\n",
       "      <td>2023-04-02 14:38:44+00:00</td>\n",
       "      <td>2023-04-04 11:44:00+00:00</td>\n",
       "      <td>NaT</td>\n",
       "      <td>NaT</td>\n",
       "      <td>650.00</td>\n",
       "      <td>1</td>\n",
       "      <td>308.750001</td>\n",
       "      <td>Outerwear &amp; Coats</td>\n",
       "      <td>Mountain Hardwear Men's Nilas Down Jacket</td>\n",
       "      <td>Mountain Hardwear</td>\n",
       "      <td>7</td>\n",
       "    </tr>\n",
       "    <tr>\n",
       "      <th>17410</th>\n",
       "      <td>55914</td>\n",
       "      <td>219086</td>\n",
       "      <td>M</td>\n",
       "      <td>Shipped</td>\n",
       "      <td>2023-06-19 05:10:31+00:00</td>\n",
       "      <td>2023-06-18 10:18:00+00:00</td>\n",
       "      <td>NaT</td>\n",
       "      <td>NaT</td>\n",
       "      <td>815.00</td>\n",
       "      <td>2</td>\n",
       "      <td>378.160001</td>\n",
       "      <td>Outerwear &amp; Coats</td>\n",
       "      <td>Canada Goose Men's The Chateau Jacket</td>\n",
       "      <td>Canada Goose</td>\n",
       "      <td>1</td>\n",
       "    </tr>\n",
       "    <tr>\n",
       "      <th>17421</th>\n",
       "      <td>11489</td>\n",
       "      <td>44912</td>\n",
       "      <td>F</td>\n",
       "      <td>Shipped</td>\n",
       "      <td>2023-02-01 13:34:36+00:00</td>\n",
       "      <td>2023-01-31 06:17:00+00:00</td>\n",
       "      <td>NaT</td>\n",
       "      <td>NaT</td>\n",
       "      <td>903.00</td>\n",
       "      <td>2</td>\n",
       "      <td>375.648001</td>\n",
       "      <td>Active</td>\n",
       "      <td>adidas Women's adiFIT Slim Pant</td>\n",
       "      <td>adidas</td>\n",
       "      <td>4</td>\n",
       "    </tr>\n",
       "  </tbody>\n",
       "</table>\n",
       "<p>5264 rows × 15 columns</p>\n",
       "</div>"
      ],
      "text/plain": [
       "       order_id  inventory_item_id gender   status                created_at  \\\n",
       "0        124266             487074      F  Shipped 2023-05-15 06:25:24+00:00   \n",
       "8         40445             158205      F  Shipped 2023-01-22 02:55:29+00:00   \n",
       "9         37038             144994      F  Shipped 2023-01-22 11:50:46+00:00   \n",
       "17        55396             217102      M  Shipped 2023-04-28 12:31:28+00:00   \n",
       "23        53243             208707      M  Shipped 2023-01-31 13:07:20+00:00   \n",
       "...         ...                ...    ...      ...                       ...   \n",
       "17401      1897               7594      F  Shipped 2023-06-23 00:19:51+00:00   \n",
       "17402     17922              70193      M  Shipped 2023-03-16 16:56:10+00:00   \n",
       "17405     23887              93502      M  Shipped 2023-04-02 14:38:44+00:00   \n",
       "17410     55914             219086      M  Shipped 2023-06-19 05:10:31+00:00   \n",
       "17421     11489              44912      F  Shipped 2023-02-01 13:34:36+00:00   \n",
       "\n",
       "                     shipped_at delivered_at returned_at  sale_price  \\\n",
       "0     2023-05-11 19:08:00+00:00          NaT         NaT        0.02   \n",
       "8     2023-01-19 21:01:00+00:00          NaT         NaT        1.95   \n",
       "9     2023-01-24 18:15:00+00:00          NaT         NaT        2.67   \n",
       "17    2023-04-28 07:51:00+00:00          NaT         NaT        2.99   \n",
       "23    2023-02-03 12:25:00+00:00          NaT         NaT        3.29   \n",
       "...                         ...          ...         ...         ...   \n",
       "17401 2023-06-24 18:31:00+00:00          NaT         NaT      588.00   \n",
       "17402 2023-03-14 22:22:00+00:00          NaT         NaT      595.00   \n",
       "17405 2023-04-04 11:44:00+00:00          NaT         NaT      650.00   \n",
       "17410 2023-06-18 10:18:00+00:00          NaT         NaT      815.00   \n",
       "17421 2023-01-31 06:17:00+00:00          NaT         NaT      903.00   \n",
       "\n",
       "       num_of_item        cost   product_category  \\\n",
       "0                4    0.008300        Accessories   \n",
       "8                4    0.772200    Socks & Hosiery   \n",
       "9                1    1.100040        Accessories   \n",
       "17               4    1.187030        Accessories   \n",
       "23               1    1.217300        Accessories   \n",
       "...            ...         ...                ...   \n",
       "17401            1  247.548000           Sweaters   \n",
       "17402            4  270.725001  Outerwear & Coats   \n",
       "17405            1  308.750001  Outerwear & Coats   \n",
       "17410            2  378.160001  Outerwear & Coats   \n",
       "17421            2  375.648001             Active   \n",
       "\n",
       "                                            product_name  \\\n",
       "0             Indestructable Aluminum Aluma Wallet - RED   \n",
       "8      Pink Ribbon Breast Cancer Awareness Knee High ...   \n",
       "9      Retractable Colorful Rhinestone Lanyards with ...   \n",
       "17     Aviator Sunglasses Mirror Lens Silver Metal Fr...   \n",
       "23     TopTie Unisex New Fashion White and Black Keyb...   \n",
       "...                                                  ...   \n",
       "17401  Magaschoni Women's 100% Cashmere Cable Sweater...   \n",
       "17402          Men's Classic Sheepskin B-3 Bomber Jacket   \n",
       "17405          Mountain Hardwear Men's Nilas Down Jacket   \n",
       "17410              Canada Goose Men's The Chateau Jacket   \n",
       "17421                    adidas Women's adiFIT Slim Pant   \n",
       "\n",
       "                  product_brand  product_distribution_center_id  \n",
       "0                       marshal                               1  \n",
       "8          Palmetto Fundraising                               7  \n",
       "9                   Coloriffics                               2  \n",
       "17     Urban Boundaries Eyewear                               5  \n",
       "23                       TopTie                              10  \n",
       "...                         ...                             ...  \n",
       "17401                Magaschoni                               1  \n",
       "17402     Overland Sheepskin Co                               1  \n",
       "17405         Mountain Hardwear                               7  \n",
       "17410              Canada Goose                               1  \n",
       "17421                    adidas                               4  \n",
       "\n",
       "[5264 rows x 15 columns]"
      ]
     },
     "execution_count": 19,
     "metadata": {},
     "output_type": "execute_result"
    }
   ],
   "source": [
    "df[df['status']== 'Shipped']\n"
   ]
  },
  {
   "cell_type": "markdown",
   "metadata": {},
   "source": [
    "Kejelasan Status Order dalam Database\n",
    "\n",
    "Pada kolom terkait status order, terdapat ketidakjelasan apakah pesanan telah selesai atau masih dalam proses (on-going). Hal ini terlihat dari kolom \"returned_at\" dan \"delivered_at\", yang sebagian besar nilainya kosong, sehingga sulit untuk memastikan status akhir dari pesanan tersebut. Kejelasan dalam status \"shipped\" sangat diperlukan agar proses manajemen pesanan lebih terorganisir dan dapat memberikan wawasan yang lebih akurat.\n",
    "\n",
    "Jika status \"shipped\" berubah menjadi \"complete\", maka idealnya ada tindakan dari pihak pembeli maupun penjual untuk memastikan transisi tersebut. Beberapa langkah yang dapat diambil untuk mendukung hal ini antara lain:\n",
    "\n",
    "Pemberian Rating oleh Pembeli: Membuka opsi bagi pembeli untuk memberikan rating atau ulasan setelah pesanan diterima sebagai indikator bahwa transaksi telah selesai.\n",
    "Notifikasi Email Otomatis: Mengirimkan email kepada pembeli untuk mengonfirmasi status pesanan, seperti permintaan konfirmasi penerimaan barang.\n",
    "Perbaikan Sistem Tracking: Mengintegrasikan status pengiriman dari jasa kurir ke dalam sistem database untuk memantau secara real-time perubahan status pesanan.\n",
    "Dengan melakukan langkah-langkah ini, kerapian dan konsistensi data dalam database dapat terjaga, yang akan mempermudah analisis performa pesanan serta meningkatkan pengalaman pelanggan"
   ]
  },
  {
   "cell_type": "code",
   "execution_count": 20,
   "metadata": {},
   "outputs": [
    {
     "data": {
      "text/plain": [
       "product_distribution_center_id\n",
       "1     334\n",
       "2     326\n",
       "3     313\n",
       "8     280\n",
       "7     274\n",
       "9     273\n",
       "4     256\n",
       "6     239\n",
       "5     180\n",
       "10    172\n",
       "Name: count, dtype: int64"
      ]
     },
     "execution_count": 20,
     "metadata": {},
     "output_type": "execute_result"
    }
   ],
   "source": [
    "df[df['status']=='Cancelled']['product_distribution_center_id'].value_counts()"
   ]
  },
  {
   "cell_type": "code",
   "execution_count": 21,
   "metadata": {},
   "outputs": [
    {
     "data": {
      "text/plain": [
       "product_category\n",
       "Sweaters                         193\n",
       "Intimates                        182\n",
       "Tops & Tees                      179\n",
       "Sleep & Lounge                   169\n",
       "Fashion Hoodies & Sweatshirts    167\n",
       "Jeans                            165\n",
       "Shorts                           153\n",
       "Swim                             151\n",
       "Accessories                      149\n",
       "Outerwear & Coats                135\n",
       "Active                           117\n",
       "Underwear                        107\n",
       "Pants                            106\n",
       "Socks                            104\n",
       "Suits & Sport Coats               97\n",
       "Maternity                         79\n",
       "Dresses                           70\n",
       "Blazers & Jackets                 61\n",
       "Plus                              59\n",
       "Pants & Capris                    53\n",
       "Socks & Hosiery                   53\n",
       "Leggings                          45\n",
       "Skirts                            22\n",
       "Jumpsuits & Rompers               15\n",
       "Suits                             12\n",
       "Clothing Sets                      4\n",
       "Name: count, dtype: int64"
      ]
     },
     "execution_count": 21,
     "metadata": {},
     "output_type": "execute_result"
    }
   ],
   "source": [
    "df[df['status']=='Cancelled']['product_category'].value_counts()"
   ]
  },
  {
   "cell_type": "code",
   "execution_count": 22,
   "metadata": {},
   "outputs": [
    {
     "data": {
      "text/plain": [
       "gender\n",
       "M    1349\n",
       "F    1298\n",
       "Name: count, dtype: int64"
      ]
     },
     "execution_count": 22,
     "metadata": {},
     "output_type": "execute_result"
    }
   ],
   "source": [
    "df[df['status']=='Cancelled']['gender'].value_counts()\n"
   ]
  },
  {
   "cell_type": "code",
   "execution_count": 23,
   "metadata": {},
   "outputs": [
    {
     "data": {
      "text/plain": [
       "(2647, 15)"
      ]
     },
     "execution_count": 23,
     "metadata": {},
     "output_type": "execute_result"
    }
   ],
   "source": [
    "df[df['status']=='Cancelled'].shape"
   ]
  },
  {
   "cell_type": "code",
   "execution_count": 24,
   "metadata": {},
   "outputs": [
    {
     "data": {
      "text/plain": [
       "product_brand\n",
       "Allegra K       117\n",
       "Calvin Klein     49\n",
       "Carhartt         30\n",
       "Quiksilver       25\n",
       "Diesel           24\n",
       "               ... \n",
       "Cuddl Duds        1\n",
       "Clever            1\n",
       "ScotlandShop      1\n",
       "Skinnygirl        1\n",
       "NAU               1\n",
       "Name: count, Length: 884, dtype: int64"
      ]
     },
     "execution_count": 24,
     "metadata": {},
     "output_type": "execute_result"
    }
   ],
   "source": [
    "df[df['status']=='Cancelled']['product_brand'].value_counts()"
   ]
  },
  {
   "cell_type": "markdown",
   "metadata": {},
   "source": [
    "Setelah dilakukan slicing untuk fitur cancelled tidak diketemukan pola yang konsisten atau mencolok terkait kategori produk, brand , gender pelanggan atau aspek lainnya yang dapat menjelaskan banyaknya order yang dibatalkan. Meskipun produk sweaters dan intimates menempati urutan pertama dan kedua sebagai kategori produk yang paling sering dibatalkan, jumlahnya masing-masing hanya sekitar 190 dari total 2600 order yang dibatalkan. Angka ini bahkan tidak mencapai 10% dari total order yang dibatalkan. \n",
    "\n",
    "Dari analisis ini, dapat disimpulkan bahwa tidak ada pola signifikan yang menunjukkan penyebab pasti dari order yang dibatalkan berdasarkan identifikasi produk, brand atau karakteristik pelanggan tertentu. "
   ]
  },
  {
   "cell_type": "code",
   "execution_count": 25,
   "metadata": {},
   "outputs": [
    {
     "data": {
      "text/plain": [
       "product_distribution_center_id\n",
       "2     244\n",
       "1     235\n",
       "3     191\n",
       "8     182\n",
       "4     170\n",
       "9     161\n",
       "7     158\n",
       "6     151\n",
       "5     130\n",
       "10    119\n",
       "Name: count, dtype: int64"
      ]
     },
     "execution_count": 25,
     "metadata": {},
     "output_type": "execute_result"
    }
   ],
   "source": [
    "df[df['status']=='Returned']['product_distribution_center_id'].value_counts()"
   ]
  },
  {
   "cell_type": "code",
   "execution_count": 26,
   "metadata": {},
   "outputs": [
    {
     "data": {
      "text/plain": [
       "product_category\n",
       "Intimates                        123\n",
       "Jeans                            121\n",
       "Sleep & Lounge                   116\n",
       "Sweaters                         113\n",
       "Fashion Hoodies & Sweatshirts    107\n",
       "Accessories                      106\n",
       "Tops & Tees                      101\n",
       "Shorts                           101\n",
       "Swim                              99\n",
       "Active                            98\n",
       "Pants                             83\n",
       "Outerwear & Coats                 74\n",
       "Underwear                         63\n",
       "Socks                             54\n",
       "Suits & Sport Coats               54\n",
       "Dresses                           51\n",
       "Plus                              50\n",
       "Maternity                         48\n",
       "Leggings                          44\n",
       "Blazers & Jackets                 39\n",
       "Socks & Hosiery                   35\n",
       "Pants & Capris                    24\n",
       "Skirts                            19\n",
       "Jumpsuits & Rompers                9\n",
       "Suits                              7\n",
       "Clothing Sets                      2\n",
       "Name: count, dtype: int64"
      ]
     },
     "execution_count": 26,
     "metadata": {},
     "output_type": "execute_result"
    }
   ],
   "source": [
    "df[df['status']=='Returned']['product_category'].value_counts()"
   ]
  },
  {
   "cell_type": "code",
   "execution_count": 27,
   "metadata": {},
   "outputs": [
    {
     "data": {
      "text/plain": [
       "gender\n",
       "M    871\n",
       "F    870\n",
       "Name: count, dtype: int64"
      ]
     },
     "execution_count": 27,
     "metadata": {},
     "output_type": "execute_result"
    }
   ],
   "source": [
    "df[df['status']=='Returned']['gender'].value_counts()"
   ]
  },
  {
   "cell_type": "markdown",
   "metadata": {},
   "source": [
    "Pada analisis slicing untuk status order 'Returned' ditemukan bahwa tidak ada pola dominan yang telihat dari kategori produk , brand ataupun gender pelanggan terhadap produk-produk yang dikembalikan. Berdasarkan temuan ini dapat disimpulkan bahwa upaya untuk mengurangi produk return tidak dapat difokuskan pada satu fitur tertentu saja. Sebaliknya, pendekatan yang lebih holistik diperlukan untuk mencakup semua kategori pelanggan secara keseluruhan. Kesimpulan ini juga diperkuat oleh data dari status order returned ataupun cancelled yang menunjukkan pola serupa. "
   ]
  },
  {
   "cell_type": "code",
   "execution_count": 28,
   "metadata": {},
   "outputs": [
    {
     "data": {
      "image/png": "[encoded data removed]",
      "text/plain": [
       "<Figure size 1000x600 with 1 Axes>"
      ]
     },
     "metadata": {},
     "output_type": "display_data"
    }
   ],
   "source": [
    "# Total_Count_Value Response \n",
    "category_count = df['product_category'].value_counts(ascending = False).head(10)\n",
    "\n",
    "# buat graph\n",
    "plt.figure(figsize=(10, 6))  # Atur ukuran figure (lebar, tinggi)\n",
    "plt.bar(category_count.index, category_count.values)  # Pastikan sumbu x dan y benar\n",
    "plt.xticks(rotation = 45)\n",
    "plt.title('Top 10 Order Activity by Category ')\n",
    "plt.show()"
   ]
  },
  {
   "cell_type": "markdown",
   "metadata": {},
   "source": [
    "Grafik di atas menunjukkan distribusi 10 kategori terlaris dalam aktivitas order. Hasilnya mengindikasikan bahwa jarak antar kategori tidak jauh berbeda, sehingga tidak ada kategori yang secara signifikan mendominasi. Performanya relatif merata, membuat pola atau insight spesifik sulit untuk diidentifikasi.\n",
    "\n",
    "Distribusi yang merata ini dapat diartikan bahwa strategi pengelolaan stok atau pemasaran perlu menargetkan kategori secara menyeluruh, karena tidak ada satu kategori yang berperan sebagai penggerak utama. Langkah selanjutnya adalah mencari pola tambahan, misalnya melalui analisis tren waktu atau distribusi geografis, untuk mendapatkan insight lebih mendalam."
   ]
  },
  {
   "cell_type": "code",
   "execution_count": 29,
   "metadata": {},
   "outputs": [
    {
     "data": {
      "image/png": "[encoded data removed]",
      "text/plain": [
       "<Figure size 1000x600 with 1 Axes>"
      ]
     },
     "metadata": {},
     "output_type": "display_data"
    }
   ],
   "source": [
    "# Total_Count_Value Response \n",
    "category_count = df['product_category'].value_counts(ascending = True).head(10)\n",
    "\n",
    "# buat graph\n",
    "plt.figure(figsize=(10, 6))  # Atur ukuran figure (lebar, tinggi)\n",
    "plt.bar(category_count.index, category_count.values)  # Pastikan sumbu x dan y benar\n",
    "plt.xticks(rotation = 45)\n",
    "plt.title('Top 10 Categories with the Lowest Order Activity')\n",
    "plt.show()"
   ]
  },
  {
   "cell_type": "markdown",
   "metadata": {},
   "source": [
    "Dalam waktu 6 bulan terakhir ada 3 kategori yang benar-benar penjualannya sangat sedikit. Penjualan paling sedikit yaitu clothing set yang mana kategori ini pencapaian penjualan tidak lebih dari 20 buah. Perlu dipertimbangkan untuk menghapus kategori ini atau stok segera dihabiskan dengan adanya promosi atau pemasaran yang lain. Langkah ini perlu dilakukan untuk memastikan kategori ini terjual semua stok nya sehingga tidak adanya penumpukan barang yang terlalu banyak di gudang. "
   ]
  },
  {
   "cell_type": "code",
   "execution_count": 30,
   "metadata": {},
   "outputs": [
    {
     "data": {
      "image/png": "[encoded data removed]",
      "text/plain": [
       "<Figure size 1000x600 with 1 Axes>"
      ]
     },
     "metadata": {},
     "output_type": "display_data"
    }
   ],
   "source": [
    "# Membuat histogram dengan data yang sudah difilter\n",
    "plt.figure(figsize=(10, 6))\n",
    "# membagi 20 dari histogram\n",
    "plt.hist(df['cost'], bins=30, color='turquoise', edgecolor='black')\n",
    "# pemberian tittle dan label\n",
    "plt.title('Product Cost Distribution')\n",
    "# deskripsi sumbu x\n",
    "plt.xlabel('Cost')\n",
    "\n",
    "\n",
    "# deskripsi sumbu y\n",
    "plt.ylabel('Frequency')\n",
    "plt.show()"
   ]
  },
  {
   "cell_type": "code",
   "execution_count": 31,
   "metadata": {},
   "outputs": [
    {
     "data": {
      "image/png": "[encoded data removed]",
      "text/plain": [
       "<Figure size 1000x600 with 1 Axes>"
      ]
     },
     "metadata": {},
     "output_type": "display_data"
    }
   ],
   "source": [
    "# Membuat histogram dengan data yang sudah difilter\n",
    "plt.figure(figsize=(10, 6))\n",
    "# membagi 20 dari histogram\n",
    "plt.hist(df['sale_price'], bins=30, color='turquoise', edgecolor='black')\n",
    "# pemberian tittle dan label\n",
    "plt.title('Histogram of Sale Price ')\n",
    "# deskripsi sumbu x\n",
    "plt.xlabel('Retail Price')\n",
    "\n",
    "\n",
    "# deskripsi sumbu y\n",
    "plt.ylabel('Frequency')\n",
    "plt.show()"
   ]
  },
  {
   "cell_type": "code",
   "execution_count": 32,
   "metadata": {},
   "outputs": [
    {
     "data": {
      "image/png": "[encoded data removed]",
      "text/plain": [
       "<Figure size 1000x600 with 1 Axes>"
      ]
     },
     "metadata": {},
     "output_type": "display_data"
    }
   ],
   "source": [
    "# Total_Count_Value Response \n",
    "category_count = df['status'].value_counts(ascending = False).head(10)\n",
    "\n",
    "# buat graph\n",
    "plt.figure(figsize=(10, 6))  # Atur ukuran figure (lebar, tinggi)\n",
    "plt.bar(category_count.index, category_count.values)  # Pastikan sumbu x dan y benar\n",
    "plt.xticks(rotation = 45)\n",
    "plt.show()"
   ]
  },
  {
   "cell_type": "code",
   "execution_count": 33,
   "metadata": {},
   "outputs": [
    {
     "data": {
      "image/png": "[encoded data removed]",
      "text/plain": [
       "<Figure size 1000x600 with 1 Axes>"
      ]
     },
     "metadata": {},
     "output_type": "display_data"
    }
   ],
   "source": [
    "# Total_Count_Value Response \n",
    "category_count = df['product_brand'].value_counts(ascending = False).head(10)\n",
    "\n",
    "# buat graph\n",
    "plt.figure(figsize=(10, 6))  # Atur ukuran figure (lebar, tinggi)\n",
    "plt.bar(category_count.index, category_count.values)  # Pastikan sumbu x dan y benar\n",
    "plt.title('Top 10 Most Brand Sold in first semester')\n",
    "plt.xticks(rotation = 45)\n",
    "plt.show()"
   ]
  },
  {
   "cell_type": "markdown",
   "metadata": {},
   "source": [
    "Terdapat beberapa brand yang menduduki peringkat tertinggi berdasarkan jumlah unit terjual. Brand Allegra K berada di posisi pertama dengan lebih dari 600 unit terjual, diikuti oleh brand Calvin Klein dengan 300 unit, dan Carhart dengan sedikit lebih dari 200 unit. Untuk semester selanjutnya, kita dapat mempersiapkan stok lebih dari 600 unit untuk Allegra K dan 300 unit untuk Calvin Klein. Sementara itu, untuk brand-brand lain, kita cukup menyediakan stok maksimal 200 unit karena terlihat jelas bahwa dari peringkat ke-4 hingga ke-10, tidak ada brand yang mencapai penjualan lebih dari 200 unit. Sebagai antisipasi belanja akhir tahun, angka 200 unit ini bisa dijadikan acuan untuk menghindari overstock."
   ]
  },
  {
   "cell_type": "code",
   "execution_count": 34,
   "metadata": {},
   "outputs": [
    {
     "name": "stderr",
     "output_type": "stream",
     "text": [
      "C:\\Users\\asanm\\AppData\\Local\\Temp\\ipykernel_8084\\4100995252.py:2: UserWarning: Converting to PeriodArray/Index representation will drop timezone information.\n",
      "  df['year_month'] = df['created_at'].dt.to_period('M')\n"
     ]
    },
    {
     "data": {
      "text/plain": [
       "year_month\n",
       "2023-01    2821\n",
       "2023-02    2561\n",
       "2023-03    2881\n",
       "2023-04    2893\n",
       "2023-05    3156\n",
       "2023-06    3111\n",
       "Freq: M, Name: order_id, dtype: int64"
      ]
     },
     "execution_count": 34,
     "metadata": {},
     "output_type": "execute_result"
    }
   ],
   "source": [
    "# Tambahkan kolom baru untuk bulan dan tahun\n",
    "df['year_month'] = df['created_at'].dt.to_period('M')\n",
    "\n",
    "df.groupby('year_month')['order_id'].count()"
   ]
  },
  {
   "cell_type": "code",
   "execution_count": 35,
   "metadata": {},
   "outputs": [
    {
     "data": {
      "image/png": "[encoded data removed]",
      "text/plain": [
       "<Figure size 1000x600 with 1 Axes>"
      ]
     },
     "metadata": {},
     "output_type": "display_data"
    }
   ],
   "source": [
    "# Hitung jumlah order per bulan\n",
    "monthly_orders = df.groupby('year_month')['order_id'].count()\n",
    "\n",
    "# Buat line chart untuk jumlah order per bulan\n",
    "plt.figure(figsize=(10, 6))\n",
    "plt.plot(monthly_orders.index.astype(str), monthly_orders.values, marker='o', linestyle='-', linewidth=2)\n",
    "\n",
    "# Tambahkan label dan judul\n",
    "plt.title('Total Orders per Month', fontsize=14)\n",
    "plt.xlabel('Month', fontsize=12)\n",
    "plt.ylabel('Total Orders', fontsize=12)\n",
    "plt.xticks(rotation=45)\n",
    "plt.grid(True, linestyle='--', alpha=0.7)\n",
    "\n",
    "# Tampilkan chart\n",
    "plt.tight_layout()\n",
    "plt.show()\n"
   ]
  },
  {
   "cell_type": "markdown",
   "metadata": {},
   "source": [
    "Line chart menunjukkan fluktuasi jumlah total order per bulan sepanjang 2023, dengan penurunan tajam dari Januari ke Februari, kemungkinan akibat faktor musiman atau penurunan aktivitas belanja. Order kembali meningkat drastis pada Maret dan tetap stabil hingga April, lalu mengalami lonjakan signifikan di Mei yang bisa disebabkan oleh promo atau strategi pemasaran yang efektif. Setelah mencapai puncaknya, jumlah order sedikit menurun pada Juni, menandakan stabilisasi setelah peningkatan sebelumnya. Insight dari grafik ini menunjukkan perlunya analisis lebih lanjut terhadap faktor penyebab penurunan di Februari, serta evaluasi strategi sukses di Mei agar dapat diterapkan kembali untuk menjaga tren positif di bulan-bulan berikutnya."
   ]
  },
  {
   "cell_type": "code",
   "execution_count": 36,
   "metadata": {},
   "outputs": [
    {
     "data": {
      "image/png": "[encoded data removed]",
      "text/plain": [
       "<Figure size 1200x800 with 1 Axes>"
      ]
     },
     "metadata": {},
     "output_type": "display_data"
    }
   ],
   "source": [
    "status_monthly_orders = df.groupby(['status', 'year_month'])['order_id'].count().reset_index()\n",
    "status_monthly_orders.columns = ['Status', 'Year-Month', 'Total Orders']\n",
    "# Buat stacked bar chart untuk per bulan dan status\n",
    "# Pivot data untuk mempermudah plot\n",
    "status_monthly_pivot = status_monthly_orders.pivot(index='Year-Month', columns='Status', values='Total Orders').fillna(0)\n",
    "\n",
    "# Buat bar plot\n",
    "status_monthly_pivot.plot(\n",
    "    kind='bar',\n",
    "    stacked=True,\n",
    "    figsize=(12, 8),\n",
    "    colormap='tab10'\n",
    ")\n",
    "\n",
    "# Tambahkan label dan judul\n",
    "plt.title('Monthly Orders by Status (Stacked)', fontsize=16)\n",
    "plt.xlabel('Month', fontsize=12)\n",
    "plt.ylabel('Total Orders', fontsize=12)\n",
    "plt.xticks(rotation=45)\n",
    "plt.legend(title='Order Status', fontsize=10, loc='upper right')\n",
    "plt.grid(axis='y', linestyle='--', alpha=0.7)\n",
    "\n",
    "# Tampilkan plot\n",
    "plt.tight_layout()\n",
    "plt.show()"
   ]
  },
  {
   "cell_type": "markdown",
   "metadata": {},
   "source": [
    "Grafik ini menunjukkan jumlah total order per bulan dengan kategori status order dalam bentuk stacked bar chart, di mana setiap bulan direpresentasikan oleh satu batang yang terdiri dari berbagai warna untuk masing-masing status (Cancelled, Complete, Processing, Returned, Shipped). Dari pola ini, terlihat bahwa jumlah total order mengalami sedikit fluktuasi dari Januari hingga Juni 2023, dengan tren meningkat setelah Februari. Komposisi warna dalam batang menunjukkan bahwa Shipped selalu menjadi kategori terbesar setiap bulan, diikuti oleh Complete dan Processing. Order dengan status Cancelled dan Returned memiliki proporsi lebih kecil tetapi tetap konsisten dalam distribusinya. Peningkatan order di bulan Mei dan Juni mengindikasikan pertumbuhan yang lebih stabil dibandingkan bulan-bulan sebelumnya, yang mungkin dipengaruhi oleh faktor promosi atau peningkatan aktivitas pasar. Kesimpulannya, meskipun jumlah order mengalami variasi bulanan, pola distribusi status order relatif stabil, yang bisa menjadi indikasi bahwa proporsi order yang berhasil diproses tetap terjaga."
   ]
  },
  {
   "cell_type": "code",
   "execution_count": 37,
   "metadata": {},
   "outputs": [
    {
     "data": {
      "image/png": "[encoded data removed]",
      "text/plain": [
       "<Figure size 1000x600 with 1 Axes>"
      ]
     },
     "metadata": {},
     "output_type": "display_data"
    }
   ],
   "source": [
    "# Hitung jumlah kemunculan setiap jumlah item yang dibeli\n",
    "num_items_count = df['num_of_item'].value_counts().sort_index()\n",
    "\n",
    "# Membuat bar chart\n",
    "plt.figure(figsize=(10, 6))\n",
    "plt.bar(num_items_count.index, num_items_count.values, color='turquoise', edgecolor='black',width = 0.6)\n",
    "\n",
    "# Pemberian judul dan label\n",
    "plt.title('Jumlah Item per Order', fontsize=14)\n",
    "plt.xlabel('Jumlah Item', fontsize=12)\n",
    "plt.ylabel('Frekuensi', fontsize=12)\n",
    "plt.xticks(rotation=0)\n",
    "\n",
    "# Menampilkan grafik\n",
    "plt.show()"
   ]
  },
  {
   "cell_type": "markdown",
   "metadata": {},
   "source": [
    "Pada grafik ini terlihat bagaimana perilaku konsumen mengenai total item yang di order. Mayoritas order memiliki jumlah item sebanyak 1. Komposisi ini hampir sekitar 50 % orderan itu berisi 1 item. karena mayoritas pembelian di 1 produk maka team gudang harus mempersiapkan kemasan untuk-untuk order-order 1 barang. Dengan menyiapkan kemasan untuk packaging 1 barang maka kita tidak ada momentum kita kehabisan stock untuk kemasan. \n",
    "\n",
    "Kita bisa memberikan insight ke team marketing untuk memanfaatkan bundlling dan gratis ongkir atau diskon ongkir supaya consumen condong untuk membeli produk lebih dari pada 1. "
   ]
  },
  {
   "cell_type": "code",
   "execution_count": 38,
   "metadata": {},
   "outputs": [
    {
     "name": "stdout",
     "output_type": "stream",
     "text": [
      "Rata-rata lama pengiriman: 59.44 jam\n"
     ]
    }
   ],
   "source": [
    "# Hitung lama pengiriman dalam jam\n",
    "df['lama_pengiriman'] = df['delivered_at'] - df['shipped_at']\n",
    "df['lama_pengiriman_jam'] = df['lama_pengiriman'] / pd.Timedelta(hours=1)\n",
    "\n",
    "# Filter data valid (tanpa missing values)\n",
    "lama_pengiriman_valid = df['lama_pengiriman_jam'].dropna()\n",
    "\n",
    "# Hitung rata-rata lama pengiriman dalam jam\n",
    "rata_rata_pengiriman_jam = lama_pengiriman_valid.mean()\n",
    "print(f\"Rata-rata lama pengiriman: {rata_rata_pengiriman_jam:.2f} jam\")\n",
    "\n"
   ]
  },
  {
   "cell_type": "code",
   "execution_count": 39,
   "metadata": {},
   "outputs": [
    {
     "name": "stdout",
     "output_type": "stream",
     "text": [
      "Rata-rata lama pengembalian: 95.20 jam\n"
     ]
    }
   ],
   "source": [
    "df['lama_pengembalian_jam']= df['returned_at'] - df['shipped_at']\n",
    "df['lama_pengembalian_jam']=df['lama_pengembalian_jam'] / pd.Timedelta(hours=1)\n",
    "\n",
    "lama_pengembalian_valid = df['lama_pengembalian_jam'].dropna()\n",
    "\n",
    "# Hitung rata-rata lama pengiriman dalam jam\n",
    "rata_rata_pengembalian_jam = lama_pengembalian_valid.mean()\n",
    "print(f\"Rata-rata lama pengembalian: {rata_rata_pengembalian_jam:.2f} jam\")"
   ]
  },
  {
   "cell_type": "code",
   "execution_count": 40,
   "metadata": {},
   "outputs": [
    {
     "data": {
      "image/png": "[encoded data removed]",
      "text/plain": [
       "<Figure size 1000x600 with 1 Axes>"
      ]
     },
     "metadata": {},
     "output_type": "display_data"
    }
   ],
   "source": [
    "# Membuat histogram dengan data yang sudah difilter\n",
    "plt.figure(figsize=(10, 6))\n",
    "# membagi 20 dari histogram\n",
    "plt.hist(df['lama_pengiriman_jam'], bins=30, color='turquoise', edgecolor='black')\n",
    "# pemberian tittle dan label\n",
    "plt.title('Histogram Lama Pengiriman (dalam Jam)')\n",
    "# deskripsi sumbu x\n",
    "plt.xlabel('jumlah item ')\n",
    "\n",
    "\n",
    "# deskripsi sumbu y\n",
    "plt.ylabel('Frequency')\n",
    "plt.show()"
   ]
  },
  {
   "cell_type": "markdown",
   "metadata": {},
   "source": [
    "Grafik histogram menunjukkan distribusi frekuensi lama pengiriman dalam satuan jam, yang tampak relatif merata dengan beberapa variasi kecil. Tidak ada puncak yang sangat dominan, yang mengindikasikan bahwa waktu pengiriman tersebar cukup seragam di seluruh interval waktu. Meskipun terdapat sedikit fluktuasi, seperti frekuensi tertinggi di sekitar pertengahan interval, tidak ada bukti kuat tentang adanya outlier signifikan atau ketimpangan besar dalam pola distribusi waktu pengiriman. Secara keseluruhan, proses pengiriman tampaknya konsisten tanpa adanya kendala signifikan yang memperpanjang waktu tertentu."
   ]
  },
  {
   "cell_type": "code",
   "execution_count": 41,
   "metadata": {},
   "outputs": [
    {
     "data": {
      "text/plain": [
       "product_name\n",
       "Ladies Velour Hoody Tracksuit Kangaroo Pocket Fuchsia Pink    7\n",
       "Mother Tucker Compression V-Neck Tank Top - Nude - Size S     6\n",
       "Wrangler Men's Premium Performance Cowboy Cut Jean            6\n",
       "Lee Men's Custom Fit Flat Front Pant                          6\n",
       "Tuxedo Vest - Solid Satin with Matching Pin Ascot Lime        6\n",
       "                                                             ..\n",
       "Ingrid & Isabel Women's Everyday Cami                         1\n",
       "N2N Pendleton Swim Trunks Camo                                1\n",
       "C-IN2 Men's Zen Tank Top                                      1\n",
       "Islandia Belted Plaid Shorts                                  1\n",
       "Darla                                                         1\n",
       "Name: count, Length: 12633, dtype: int64"
      ]
     },
     "execution_count": 41,
     "metadata": {},
     "output_type": "execute_result"
    }
   ],
   "source": [
    "df['product_name'].value_counts()"
   ]
  },
  {
   "cell_type": "markdown",
   "metadata": {},
   "source": [
    "Pola mengenai product name sangat tidak signifikan. Karena memang banyak nama barang sehingga untuk mendeteksi dari nama produk sangat sangat susah. Produk yang sering dibeli disini hanya mempunyai total sebanyak 7 item. "
   ]
  },
  {
   "cell_type": "code",
   "execution_count": 42,
   "metadata": {},
   "outputs": [],
   "source": [
    "df['product_distribution_center_id']=df['product_distribution_center_id'].astype(str)"
   ]
  },
  {
   "cell_type": "code",
   "execution_count": 43,
   "metadata": {},
   "outputs": [
    {
     "data": {
      "image/png": "[encoded data removed]",
      "text/plain": [
       "<Figure size 800x800 with 1 Axes>"
      ]
     },
     "metadata": {},
     "output_type": "display_data"
    }
   ],
   "source": [
    "num_count=df['product_distribution_center_id'].value_counts(ascending=False)\n",
    "\n",
    "plt.figure(figsize=(8,8))\n",
    "plt.bar(num_count.index,num_count.values, color='turquoise',width=0.5,edgecolor='black')\n",
    "plt.title ('Total Distribution Centers Utilized Over One Semester')\n",
    "plt.xlabel ('Distribution ID')\n",
    "plt.ylabel ('Total Used')\n",
    "plt.show()"
   ]
  },
  {
   "cell_type": "markdown",
   "metadata": {},
   "source": [
    "Grafik bar ini menunjukkan distribusi penggunaan berdasarkan Distribution ID, dengan total penggunaan (Total Used) di sepanjang sumbu vertikal. Terlihat bahwa ID distribusi 1, 2, dan 3 memiliki jumlah penggunaan tertinggi, masing-masing berada di atas 2000, sementara jumlah penggunaan berangsur-angsur menurun seiring meningkatnya ID distribusi. Distribution ID 10 mencatatkan jumlah penggunaan terendah. Pola ini menunjukkan bahwa sebagian besar aktivitas atau konsumsi terpusat pada beberapa ID distribusi utama (1-3), sementara ID lainnya memiliki kontribusi yang lebih kecil. Hal ini bisa menjadi indikasi adanya ketergantungan besar pada beberapa sumber distribusi utama dalam sistem.\n",
    "\n",
    "\n",
    "\n"
   ]
  },
  {
   "cell_type": "markdown",
   "metadata": {},
   "source": [
    "# Insight and Conclusion "
   ]
  },
  {
   "cell_type": "markdown",
   "metadata": {},
   "source": [
    "## Insight "
   ]
  },
  {
   "cell_type": "markdown",
   "metadata": {},
   "source": [
    "1. Distribusi Seimbang Pria dan Wanita:\n",
    "\n",
    "Kedua departemen memiliki kontribusi yang setara terhadap total order selama 6 bulan terakhir, sehingga kebijakan penyetaraan bisa diterapkan di berbagai aspek bisnis.\n",
    "\n",
    "2. Status Pesanan \"Shipped\" Mendominasi:\n",
    "\n",
    "Status \"shipped\" mencakup 30% dari total order, tetapi perlu investigasi lebih lanjut untuk memastikan apakah pesanan sudah sampai ke pelanggan.\n",
    "\n",
    "3. Tingginya Status \"Processing\" (19%):\n",
    "\n",
    "Banyak pesanan masih tertahan di tahap awal, yang memerlukan strategi lintas divisi atau pengingat otomatis untuk mempercepat proses.\n",
    "\n",
    "4. Tidak Ada Pola Jelas pada Order yang Dibatalkan:\n",
    "\n",
    "Pembatalan terjadi merata di berbagai kategori dan brand, sehingga tidak ada penyebab tunggal yang dominan.\n",
    "\n",
    "5. Return Barang Tidak Fokus pada Kategori atau Brand Tertentu:\n",
    "\n",
    "Return barang bersifat merata, sehingga upaya untuk menguranginya perlu pendekatan holistik yang mencakup semua kategori.\n",
    "\n",
    "6. Brand Allegra K, Calvin Klein, dan Carhart Mendominasi:\n",
    "Allegra K terjual lebih dari 600 unit, Calvin Klein 300 unit, dan Carhart sedikit di atas 200 unit. Stok dapat disesuaikan berdasarkan performa ini.\n",
    "\n",
    "7. Kategori \"Clothing Set\" Punya Penjualan Rendah:\n",
    "\n",
    "Kategori ini hanya terjual kurang dari 20 unit, sehingga perlu dipertimbangkan untuk dipromosikan atau dihapus dari stok.\n",
    "\n",
    "8. Puncak Order Terjadi di Bulan Mei:\n",
    "\n",
    "Lonjakan order di bulan Mei kemungkinan disebabkan oleh promosi atau strategi pemasaran yang efektif, yang bisa direplikasi di masa depan.\n",
    "\n",
    "9. Mayoritas Order Berisi 1 Item:\n",
    "\n",
    "sekitar 50% pesanan hanya berisi 1 item, sehingga gudang perlu menyiapkan kemasan kecil, dan tim marketing bisa mendorong pembelian multi-item melalui bundling atau diskon ongkir.\n",
    "\n",
    "10. Ketergantungan Besar pada Distribution ID 1, 2, dan 3:\n",
    "Tiga distribution center ini menangani mayoritas aktivitas, menunjukkan perlunya diversifikasi jika ingin mengurangi ketergantungan pada pusat tertentu.\n",
    "\n"
   ]
  },
  {
   "cell_type": "markdown",
   "metadata": {},
   "source": [
    "## Conclusion "
   ]
  },
  {
   "cell_type": "markdown",
   "metadata": {},
   "source": [
    "Dari analisis EDA yang dilakukan, terlihat bahwa distribusi kontribusi pesanan antara departemen pria dan wanita cukup seimbang, menandakan pentingnya penerapan kebijakan penyetaraan di berbagai aspek bisnis seperti pemasaran, pengembangan produk, dan operasional. Namun, terdapat beberapa area kritis yang memerlukan perhatian khusus, seperti tingginya proporsi pesanan dalam status \"shipped\" dan \"processing\". Hal ini menunjukkan adanya ambiguitas dalam kejelasan pengiriman serta potensi kendala di tahap awal pemrosesan pesanan yang memerlukan tindakan kolaboratif lintas divisi untuk mempercepat penyelesaian transaksi.\n",
    "\n",
    "Selain itu, analisis terhadap kategori dan brand menunjukkan bahwa penjualan cenderung terdistribusi merata tanpa dominasi signifikan dari satu kategori. Namun, beberapa brand seperti Allegra K dan Calvin Klein menduduki peringkat teratas dalam jumlah unit terjual, yang memerlukan pengelolaan stok yang lebih besar dibandingkan brand lainnya. Sebaliknya, kategori dengan performa rendah seperti \"clothing set\" perlu dipertimbangkan untuk dihapus atau dipromosikan secara agresif guna menghindari overstock. Upaya pengurangan jumlah pesanan yang dibatalkan dan return juga tidak dapat difokuskan pada satu kategori atau brand tertentu, tetapi perlu pendekatan menyeluruh yang mencakup semua aspek operasional.\n",
    "\n",
    "Terakhir, pola pembelian mayoritas yang berisi 1 item menunjukkan bahwa persiapan kemasan kecil di gudang menjadi penting untuk menjaga efisiensi operasional. Selain itu, tim marketing memiliki peluang untuk meningkatkan jumlah pembelian per order melalui promosi bundling atau diskon ongkir. Diversifikasi aktivitas di distribution center juga dapat dipertimbangkan untuk mengurangi ketergantungan besar pada beberapa pusat distribusi utama, sehingga meningkatkan stabilitas dan kelancaran operasional secara keseluruhan. Insight ini dapat menjadi dasar dalam pengambilan keputusan strategis untuk mengoptimalkan performa penjualan dan efisiensi logistik."
   ]
  },
  {
   "cell_type": "markdown",
   "metadata": {},
   "source": [
    "# Saving "
   ]
  },
  {
   "cell_type": "code",
   "execution_count": 44,
   "metadata": {},
   "outputs": [],
   "source": [
    "df.to_csv('Data The Look Clean.csv',index=False)"
   ]
  },
  {
   "cell_type": "code",
   "execution_count": 45,
   "metadata": {},
   "outputs": [
    {
     "data": {
      "text/html": [
       "<div>\n",
       "<style scoped>\n",
       "    .dataframe tbody tr th:only-of-type {\n",
       "        vertical-align: middle;\n",
       "    }\n",
       "\n",
       "    .dataframe tbody tr th {\n",
       "        vertical-align: top;\n",
       "    }\n",
       "\n",
       "    .dataframe thead th {\n",
       "        text-align: right;\n",
       "    }\n",
       "</style>\n",
       "<table border=\"1\" class=\"dataframe\">\n",
       "  <thead>\n",
       "    <tr style=\"text-align: right;\">\n",
       "      <th></th>\n",
       "      <th>order_id</th>\n",
       "      <th>inventory_item_id</th>\n",
       "      <th>gender</th>\n",
       "      <th>status</th>\n",
       "      <th>created_at</th>\n",
       "      <th>shipped_at</th>\n",
       "      <th>delivered_at</th>\n",
       "      <th>returned_at</th>\n",
       "      <th>sale_price</th>\n",
       "      <th>num_of_item</th>\n",
       "      <th>cost</th>\n",
       "      <th>product_category</th>\n",
       "      <th>product_name</th>\n",
       "      <th>product_brand</th>\n",
       "      <th>product_distribution_center_id</th>\n",
       "      <th>year_month</th>\n",
       "      <th>lama_pengiriman</th>\n",
       "      <th>lama_pengiriman_jam</th>\n",
       "      <th>lama_pengembalian_jam</th>\n",
       "    </tr>\n",
       "  </thead>\n",
       "  <tbody>\n",
       "    <tr>\n",
       "      <th>0</th>\n",
       "      <td>124266</td>\n",
       "      <td>487074</td>\n",
       "      <td>F</td>\n",
       "      <td>Shipped</td>\n",
       "      <td>2023-05-15 06:25:24+00:00</td>\n",
       "      <td>2023-05-11 19:08:00+00:00</td>\n",
       "      <td>NaT</td>\n",
       "      <td>NaT</td>\n",
       "      <td>0.02</td>\n",
       "      <td>4</td>\n",
       "      <td>0.008300</td>\n",
       "      <td>Accessories</td>\n",
       "      <td>Indestructable Aluminum Aluma Wallet - RED</td>\n",
       "      <td>marshal</td>\n",
       "      <td>1</td>\n",
       "      <td>2023-05</td>\n",
       "      <td>NaT</td>\n",
       "      <td>NaN</td>\n",
       "      <td>NaN</td>\n",
       "    </tr>\n",
       "    <tr>\n",
       "      <th>1</th>\n",
       "      <td>92782</td>\n",
       "      <td>363599</td>\n",
       "      <td>F</td>\n",
       "      <td>Complete</td>\n",
       "      <td>2023-02-20 15:55:38+00:00</td>\n",
       "      <td>2023-02-21 17:53:00+00:00</td>\n",
       "      <td>2023-02-25 20:43:00+00:00</td>\n",
       "      <td>NaT</td>\n",
       "      <td>0.49</td>\n",
       "      <td>2</td>\n",
       "      <td>0.177380</td>\n",
       "      <td>Accessories</td>\n",
       "      <td>Set of 2 - Replacement Insert For Checkbook Wa...</td>\n",
       "      <td>Made in USA</td>\n",
       "      <td>1</td>\n",
       "      <td>2023-02</td>\n",
       "      <td>4 days 02:50:00</td>\n",
       "      <td>98.833333</td>\n",
       "      <td>NaN</td>\n",
       "    </tr>\n",
       "    <tr>\n",
       "      <th>2</th>\n",
       "      <td>29061</td>\n",
       "      <td>113659</td>\n",
       "      <td>M</td>\n",
       "      <td>Processing</td>\n",
       "      <td>2023-01-28 00:48:32+00:00</td>\n",
       "      <td>NaT</td>\n",
       "      <td>NaT</td>\n",
       "      <td>NaT</td>\n",
       "      <td>1.50</td>\n",
       "      <td>2</td>\n",
       "      <td>0.606000</td>\n",
       "      <td>Accessories</td>\n",
       "      <td>Wayfarer Style Sunglasses Dark Lens Black Frame</td>\n",
       "      <td>Wayfayrer</td>\n",
       "      <td>8</td>\n",
       "      <td>2023-01</td>\n",
       "      <td>NaT</td>\n",
       "      <td>NaN</td>\n",
       "      <td>NaN</td>\n",
       "    </tr>\n",
       "    <tr>\n",
       "      <th>3</th>\n",
       "      <td>83488</td>\n",
       "      <td>327211</td>\n",
       "      <td>M</td>\n",
       "      <td>Returned</td>\n",
       "      <td>2023-04-26 04:08:20+00:00</td>\n",
       "      <td>2023-04-26 15:20:00+00:00</td>\n",
       "      <td>2023-04-28 23:59:00+00:00</td>\n",
       "      <td>2023-04-30 13:08:00+00:00</td>\n",
       "      <td>1.50</td>\n",
       "      <td>1</td>\n",
       "      <td>0.606000</td>\n",
       "      <td>Accessories</td>\n",
       "      <td>Wayfarer Style Sunglasses Dark Lens Black Frame</td>\n",
       "      <td>Wayfayrer</td>\n",
       "      <td>8</td>\n",
       "      <td>2023-04</td>\n",
       "      <td>2 days 08:39:00</td>\n",
       "      <td>56.650000</td>\n",
       "      <td>93.800000</td>\n",
       "    </tr>\n",
       "    <tr>\n",
       "      <th>4</th>\n",
       "      <td>28402</td>\n",
       "      <td>111135</td>\n",
       "      <td>F</td>\n",
       "      <td>Cancelled</td>\n",
       "      <td>2023-04-02 03:21:08+00:00</td>\n",
       "      <td>NaT</td>\n",
       "      <td>NaT</td>\n",
       "      <td>NaT</td>\n",
       "      <td>1.51</td>\n",
       "      <td>4</td>\n",
       "      <td>0.644770</td>\n",
       "      <td>Accessories</td>\n",
       "      <td>Solid Color Leather Adjustable Skinny Belt with</td>\n",
       "      <td>boxed-gifts</td>\n",
       "      <td>10</td>\n",
       "      <td>2023-04</td>\n",
       "      <td>NaT</td>\n",
       "      <td>NaN</td>\n",
       "      <td>NaN</td>\n",
       "    </tr>\n",
       "    <tr>\n",
       "      <th>...</th>\n",
       "      <td>...</td>\n",
       "      <td>...</td>\n",
       "      <td>...</td>\n",
       "      <td>...</td>\n",
       "      <td>...</td>\n",
       "      <td>...</td>\n",
       "      <td>...</td>\n",
       "      <td>...</td>\n",
       "      <td>...</td>\n",
       "      <td>...</td>\n",
       "      <td>...</td>\n",
       "      <td>...</td>\n",
       "      <td>...</td>\n",
       "      <td>...</td>\n",
       "      <td>...</td>\n",
       "      <td>...</td>\n",
       "      <td>...</td>\n",
       "      <td>...</td>\n",
       "      <td>...</td>\n",
       "    </tr>\n",
       "    <tr>\n",
       "      <th>17418</th>\n",
       "      <td>101840</td>\n",
       "      <td>398985</td>\n",
       "      <td>M</td>\n",
       "      <td>Processing</td>\n",
       "      <td>2023-05-11 10:54:09+00:00</td>\n",
       "      <td>NaT</td>\n",
       "      <td>NaT</td>\n",
       "      <td>NaT</td>\n",
       "      <td>903.00</td>\n",
       "      <td>2</td>\n",
       "      <td>391.902002</td>\n",
       "      <td>Active</td>\n",
       "      <td>The North Face Apex Bionic Soft Shell Jacket -...</td>\n",
       "      <td>The North Face</td>\n",
       "      <td>3</td>\n",
       "      <td>2023-05</td>\n",
       "      <td>NaT</td>\n",
       "      <td>NaN</td>\n",
       "      <td>NaN</td>\n",
       "    </tr>\n",
       "    <tr>\n",
       "      <th>17419</th>\n",
       "      <td>124310</td>\n",
       "      <td>487252</td>\n",
       "      <td>F</td>\n",
       "      <td>Processing</td>\n",
       "      <td>2023-02-26 13:06:07+00:00</td>\n",
       "      <td>NaT</td>\n",
       "      <td>NaT</td>\n",
       "      <td>NaT</td>\n",
       "      <td>903.00</td>\n",
       "      <td>2</td>\n",
       "      <td>437.052001</td>\n",
       "      <td>Outerwear &amp; Coats</td>\n",
       "      <td>The North Face Denali Down Womens Jacket 2013</td>\n",
       "      <td>The North Face</td>\n",
       "      <td>3</td>\n",
       "      <td>2023-02</td>\n",
       "      <td>NaT</td>\n",
       "      <td>NaN</td>\n",
       "      <td>NaN</td>\n",
       "    </tr>\n",
       "    <tr>\n",
       "      <th>17420</th>\n",
       "      <td>17572</td>\n",
       "      <td>68777</td>\n",
       "      <td>M</td>\n",
       "      <td>Returned</td>\n",
       "      <td>2023-04-20 00:26:49+00:00</td>\n",
       "      <td>2023-04-16 05:32:00+00:00</td>\n",
       "      <td>2023-04-17 02:58:00+00:00</td>\n",
       "      <td>2023-04-19 21:55:00+00:00</td>\n",
       "      <td>903.00</td>\n",
       "      <td>2</td>\n",
       "      <td>370.230002</td>\n",
       "      <td>Active</td>\n",
       "      <td>JORDAN DURASHEEN SHORT MENS 404309-109</td>\n",
       "      <td>Jordan</td>\n",
       "      <td>10</td>\n",
       "      <td>2023-04</td>\n",
       "      <td>0 days 21:26:00</td>\n",
       "      <td>21.433333</td>\n",
       "      <td>88.383333</td>\n",
       "    </tr>\n",
       "    <tr>\n",
       "      <th>17421</th>\n",
       "      <td>11489</td>\n",
       "      <td>44912</td>\n",
       "      <td>F</td>\n",
       "      <td>Shipped</td>\n",
       "      <td>2023-02-01 13:34:36+00:00</td>\n",
       "      <td>2023-01-31 06:17:00+00:00</td>\n",
       "      <td>NaT</td>\n",
       "      <td>NaT</td>\n",
       "      <td>903.00</td>\n",
       "      <td>2</td>\n",
       "      <td>375.648001</td>\n",
       "      <td>Active</td>\n",
       "      <td>adidas Women's adiFIT Slim Pant</td>\n",
       "      <td>adidas</td>\n",
       "      <td>4</td>\n",
       "      <td>2023-02</td>\n",
       "      <td>NaT</td>\n",
       "      <td>NaN</td>\n",
       "      <td>NaN</td>\n",
       "    </tr>\n",
       "    <tr>\n",
       "      <th>17422</th>\n",
       "      <td>5901</td>\n",
       "      <td>23188</td>\n",
       "      <td>M</td>\n",
       "      <td>Complete</td>\n",
       "      <td>2023-06-26 16:17:53+00:00</td>\n",
       "      <td>2023-06-26 11:09:00+00:00</td>\n",
       "      <td>2023-06-30 08:55:00+00:00</td>\n",
       "      <td>NaT</td>\n",
       "      <td>999.00</td>\n",
       "      <td>2</td>\n",
       "      <td>404.595001</td>\n",
       "      <td>Outerwear &amp; Coats</td>\n",
       "      <td>Darla</td>\n",
       "      <td>Alpha Industries</td>\n",
       "      <td>5</td>\n",
       "      <td>2023-06</td>\n",
       "      <td>3 days 21:46:00</td>\n",
       "      <td>93.766667</td>\n",
       "      <td>NaN</td>\n",
       "    </tr>\n",
       "  </tbody>\n",
       "</table>\n",
       "<p>17423 rows × 19 columns</p>\n",
       "</div>"
      ],
      "text/plain": [
       "       order_id  inventory_item_id gender      status  \\\n",
       "0        124266             487074      F     Shipped   \n",
       "1         92782             363599      F    Complete   \n",
       "2         29061             113659      M  Processing   \n",
       "3         83488             327211      M    Returned   \n",
       "4         28402             111135      F   Cancelled   \n",
       "...         ...                ...    ...         ...   \n",
       "17418    101840             398985      M  Processing   \n",
       "17419    124310             487252      F  Processing   \n",
       "17420     17572              68777      M    Returned   \n",
       "17421     11489              44912      F     Shipped   \n",
       "17422      5901              23188      M    Complete   \n",
       "\n",
       "                     created_at                shipped_at  \\\n",
       "0     2023-05-15 06:25:24+00:00 2023-05-11 19:08:00+00:00   \n",
       "1     2023-02-20 15:55:38+00:00 2023-02-21 17:53:00+00:00   \n",
       "2     2023-01-28 00:48:32+00:00                       NaT   \n",
       "3     2023-04-26 04:08:20+00:00 2023-04-26 15:20:00+00:00   \n",
       "4     2023-04-02 03:21:08+00:00                       NaT   \n",
       "...                         ...                       ...   \n",
       "17418 2023-05-11 10:54:09+00:00                       NaT   \n",
       "17419 2023-02-26 13:06:07+00:00                       NaT   \n",
       "17420 2023-04-20 00:26:49+00:00 2023-04-16 05:32:00+00:00   \n",
       "17421 2023-02-01 13:34:36+00:00 2023-01-31 06:17:00+00:00   \n",
       "17422 2023-06-26 16:17:53+00:00 2023-06-26 11:09:00+00:00   \n",
       "\n",
       "                   delivered_at               returned_at  sale_price  \\\n",
       "0                           NaT                       NaT        0.02   \n",
       "1     2023-02-25 20:43:00+00:00                       NaT        0.49   \n",
       "2                           NaT                       NaT        1.50   \n",
       "3     2023-04-28 23:59:00+00:00 2023-04-30 13:08:00+00:00        1.50   \n",
       "4                           NaT                       NaT        1.51   \n",
       "...                         ...                       ...         ...   \n",
       "17418                       NaT                       NaT      903.00   \n",
       "17419                       NaT                       NaT      903.00   \n",
       "17420 2023-04-17 02:58:00+00:00 2023-04-19 21:55:00+00:00      903.00   \n",
       "17421                       NaT                       NaT      903.00   \n",
       "17422 2023-06-30 08:55:00+00:00                       NaT      999.00   \n",
       "\n",
       "       num_of_item        cost   product_category  \\\n",
       "0                4    0.008300        Accessories   \n",
       "1                2    0.177380        Accessories   \n",
       "2                2    0.606000        Accessories   \n",
       "3                1    0.606000        Accessories   \n",
       "4                4    0.644770        Accessories   \n",
       "...            ...         ...                ...   \n",
       "17418            2  391.902002             Active   \n",
       "17419            2  437.052001  Outerwear & Coats   \n",
       "17420            2  370.230002             Active   \n",
       "17421            2  375.648001             Active   \n",
       "17422            2  404.595001  Outerwear & Coats   \n",
       "\n",
       "                                            product_name     product_brand  \\\n",
       "0             Indestructable Aluminum Aluma Wallet - RED           marshal   \n",
       "1      Set of 2 - Replacement Insert For Checkbook Wa...       Made in USA   \n",
       "2        Wayfarer Style Sunglasses Dark Lens Black Frame         Wayfayrer   \n",
       "3        Wayfarer Style Sunglasses Dark Lens Black Frame         Wayfayrer   \n",
       "4        Solid Color Leather Adjustable Skinny Belt with       boxed-gifts   \n",
       "...                                                  ...               ...   \n",
       "17418  The North Face Apex Bionic Soft Shell Jacket -...    The North Face   \n",
       "17419      The North Face Denali Down Womens Jacket 2013    The North Face   \n",
       "17420             JORDAN DURASHEEN SHORT MENS 404309-109            Jordan   \n",
       "17421                    adidas Women's adiFIT Slim Pant            adidas   \n",
       "17422                                              Darla  Alpha Industries   \n",
       "\n",
       "      product_distribution_center_id year_month lama_pengiriman  \\\n",
       "0                                  1    2023-05             NaT   \n",
       "1                                  1    2023-02 4 days 02:50:00   \n",
       "2                                  8    2023-01             NaT   \n",
       "3                                  8    2023-04 2 days 08:39:00   \n",
       "4                                 10    2023-04             NaT   \n",
       "...                              ...        ...             ...   \n",
       "17418                              3    2023-05             NaT   \n",
       "17419                              3    2023-02             NaT   \n",
       "17420                             10    2023-04 0 days 21:26:00   \n",
       "17421                              4    2023-02             NaT   \n",
       "17422                              5    2023-06 3 days 21:46:00   \n",
       "\n",
       "       lama_pengiriman_jam  lama_pengembalian_jam  \n",
       "0                      NaN                    NaN  \n",
       "1                98.833333                    NaN  \n",
       "2                      NaN                    NaN  \n",
       "3                56.650000              93.800000  \n",
       "4                      NaN                    NaN  \n",
       "...                    ...                    ...  \n",
       "17418                  NaN                    NaN  \n",
       "17419                  NaN                    NaN  \n",
       "17420            21.433333              88.383333  \n",
       "17421                  NaN                    NaN  \n",
       "17422            93.766667                    NaN  \n",
       "\n",
       "[17423 rows x 19 columns]"
      ]
     },
     "execution_count": 45,
     "metadata": {},
     "output_type": "execute_result"
    }
   ],
   "source": [
    "df"
   ]
  }
 ],
 "metadata": {
  "kernelspec": {
   "display_name": "base",
   "language": "python",
   "name": "python3"
  },
  "language_info": {
   "codemirror_mode": {
    "name": "ipython",
    "version": 3
   },
   "file_extension": ".py",
   "mimetype": "text/x-python",
   "name": "python",
   "nbconvert_exporter": "python",
   "pygments_lexer": "ipython3",
   "version": "3.11.9"
  }
 },
 "nbformat": 4,
 "nbformat_minor": 2
}
